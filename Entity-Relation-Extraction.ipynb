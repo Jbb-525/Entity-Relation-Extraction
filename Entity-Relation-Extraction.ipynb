{
 "cells": [
  {
   "cell_type": "code",
   "execution_count": 1,
   "id": "294c585b",
   "metadata": {
    "ExecuteTime": {
     "end_time": "2022-06-10T07:59:36.225149Z",
     "start_time": "2022-06-10T07:59:29.216147Z"
    },
    "code_folding": []
   },
   "outputs": [],
   "source": [
    "# 掉包\n",
    "import re\n",
    "import nltk\n",
    "import torch\n",
    "import string\n",
    "import gensim\n",
    "import numpy as np\n",
    "import pandas as pd\n",
    "import torch.nn as nn\n",
    "import seaborn as sns\n",
    "import torch.nn.init as init\n",
    "import torch.nn.functional as F\n",
    "import torch.utils.data as Data\n",
    "import matplotlib.pyplot as plt\n",
    "from gensim.models import KeyedVectors\n",
    "from nltk.corpus import stopwords\n",
    "from nltk.tokenize import word_tokenize\n",
    "from sklearn.metrics import accuracy_score\n",
    "from keras.preprocessing.text import Tokenizer\n",
    "from sklearn.preprocessing import LabelEncoder\n",
    "from sklearn.preprocessing import OneHotEncoder\n",
    "from sklearn.metrics import classification_report\n",
    "from torch.nn.utils.rnn import pad_packed_sequence\n",
    "from sklearn.metrics import precision_recall_curve\n",
    "from matplotlib.font_manager import FontProperties\n",
    "from torch.nn.utils.rnn import pack_padded_sequence\n",
    "from keras.preprocessing.sequence import pad_sequences\n",
    "stopwords = stopwords.words('english')"
   ]
  },
  {
   "cell_type": "markdown",
   "id": "1de8628e",
   "metadata": {},
   "source": [
    "# 数据预处理"
   ]
  },
  {
   "cell_type": "code",
   "execution_count": 2,
   "id": "e517e100",
   "metadata": {
    "ExecuteTime": {
     "end_time": "2022-06-10T07:59:36.241147Z",
     "start_time": "2022-06-10T07:59:36.226150Z"
    },
    "code_folding": []
   },
   "outputs": [],
   "source": [
    "# 文本数据处理\n",
    "def text_process(text):\n",
    "    text = text.lower()    \n",
    "    # 缩写更正\n",
    "\n",
    "    text = re.sub(r\" i'm \", \" i am \", text)\n",
    "    text = re.sub(r\" he's \", \" he is \", text)\n",
    "    text = re.sub(r\" she's \", \" she is \", text)\n",
    "    text = re.sub(r\" it's \", \" it is \", text)\n",
    "    text = re.sub(r\" i've \", \" i have \", text)\n",
    "    text = re.sub(r\" i'll \", \" i will \", text)\n",
    "    text = re.sub(r\" that's \", \" that is \", text)        \n",
    "    text = re.sub(r\" what's \", \" what is \", text)\n",
    "    text = re.sub(r\" where's \", \" where is \", text) \n",
    "    text = re.sub(r\" can't \", \" can not \", text)\n",
    "    text = re.sub(r\" could't \", \" could not \", text)\n",
    "    text = re.sub(r\" don't \", \" do not \", text)\n",
    "    text = re.sub(r\" did't \", \" did not \", text)\n",
    "    text = re.sub(r\" does't \", \" does not \", text)\n",
    "    text = re.sub(r\" have't \", \" have not\", text)\n",
    "    \n",
    "    # 符号删除\n",
    "    text = re.sub(r\"[,.\\\"!@#$%^&*(){}?/;`~:<>+=]\", \"\", text)\n",
    "    text = re.sub(r\"-\", \" \", text)\n",
    "    \n",
    "    text = text.split(' ')\n",
    "    # 去停词\n",
    "#     text = ' '.join([word for word in text.split() if word not in (stopwords)])\n",
    "    # 分词\n",
    "#     tokens = word_tokenize(text)\n",
    "#     text = [word for word in tokens if word.isalpha()]\n",
    "\n",
    "    \n",
    "    return text"
   ]
  },
  {
   "cell_type": "code",
   "execution_count": 66,
   "id": "0665e772",
   "metadata": {
    "ExecuteTime": {
     "end_time": "2022-06-08T17:01:33.622865Z",
     "start_time": "2022-06-08T17:01:33.284792Z"
    },
    "code_folding": [],
    "collapsed": true
   },
   "outputs": [
    {
     "data": {
      "text/html": [
       "<div>\n",
       "<style scoped>\n",
       "    .dataframe tbody tr th:only-of-type {\n",
       "        vertical-align: middle;\n",
       "    }\n",
       "\n",
       "    .dataframe tbody tr th {\n",
       "        vertical-align: top;\n",
       "    }\n",
       "\n",
       "    .dataframe thead th {\n",
       "        text-align: right;\n",
       "    }\n",
       "</style>\n",
       "<table border=\"1\" class=\"dataframe\">\n",
       "  <thead>\n",
       "    <tr style=\"text-align: right;\">\n",
       "      <th></th>\n",
       "      <th>first</th>\n",
       "      <th>second</th>\n",
       "      <th>sentence</th>\n",
       "      <th>label</th>\n",
       "    </tr>\n",
       "  </thead>\n",
       "  <tbody>\n",
       "    <tr>\n",
       "      <th>0</th>\n",
       "      <td>[configurationl]</td>\n",
       "      <td>[elements]</td>\n",
       "      <td>[the, system, as, described, above, has, its, ...</td>\n",
       "      <td>Component-Whole(e2,e1)</td>\n",
       "    </tr>\n",
       "    <tr>\n",
       "      <th>1</th>\n",
       "      <td>[child]</td>\n",
       "      <td>[cradle]</td>\n",
       "      <td>[the, child, was, carefully, wrapped, and, bou...</td>\n",
       "      <td>Other</td>\n",
       "    </tr>\n",
       "    <tr>\n",
       "      <th>2</th>\n",
       "      <td>[author]</td>\n",
       "      <td>[disassembler]</td>\n",
       "      <td>[the, author, of, a, keygen, uses, a, disassem...</td>\n",
       "      <td>Instrument-Agency(e2,e1)</td>\n",
       "    </tr>\n",
       "    <tr>\n",
       "      <th>3</th>\n",
       "      <td>[ridge]</td>\n",
       "      <td>[surge]</td>\n",
       "      <td>[a, misty, ridge, uprises, from, the, surge]</td>\n",
       "      <td>Other</td>\n",
       "    </tr>\n",
       "    <tr>\n",
       "      <th>4</th>\n",
       "      <td>[student]</td>\n",
       "      <td>[association]</td>\n",
       "      <td>[the, student, association, is, the, voice, of...</td>\n",
       "      <td>Member-Collection(e1,e2)</td>\n",
       "    </tr>\n",
       "  </tbody>\n",
       "</table>\n",
       "</div>"
      ],
      "text/plain": [
       "              first          second  \\\n",
       "0  [configurationl]      [elements]   \n",
       "1           [child]        [cradle]   \n",
       "2          [author]  [disassembler]   \n",
       "3           [ridge]         [surge]   \n",
       "4         [student]   [association]   \n",
       "\n",
       "                                            sentence                     label  \n",
       "0  [the, system, as, described, above, has, its, ...    Component-Whole(e2,e1)  \n",
       "1  [the, child, was, carefully, wrapped, and, bou...                     Other  \n",
       "2  [the, author, of, a, keygen, uses, a, disassem...  Instrument-Agency(e2,e1)  \n",
       "3       [a, misty, ridge, uprises, from, the, surge]                     Other  \n",
       "4  [the, student, association, is, the, voice, of...  Member-Collection(e1,e2)  "
      ]
     },
     "execution_count": 66,
     "metadata": {},
     "output_type": "execute_result"
    }
   ],
   "source": [
    "# 加载训练数据\n",
    "data = pd.read_csv('./data/train/sentences.txt',sep=\"\\t\", header= None, names=[\"first\", \"second\", \"sentence\"])\n",
    "data['label'] = pd.read_table('./data/train/labels.txt', header=None, names=[\"label\"])\n",
    "data[\"sentence\"] = data[\"sentence\"].apply(text_process)\n",
    "data[\"first\"] = data[\"first\"].apply(text_process)\n",
    "data[\"second\"] = data[\"second\"].apply(text_process)\n",
    "\n",
    "data.head(5)"
   ]
  },
  {
   "cell_type": "markdown",
   "id": "b6948e14",
   "metadata": {
    "ExecuteTime": {
     "end_time": "2022-06-07T02:54:27.052170Z",
     "start_time": "2022-06-07T02:54:27.049171Z"
    }
   },
   "source": [
    "#### 确定两个实体在句子中的准确位置"
   ]
  },
  {
   "cell_type": "code",
   "execution_count": 95,
   "id": "8a855124",
   "metadata": {
    "ExecuteTime": {
     "end_time": "2022-06-08T13:54:36.373598Z",
     "start_time": "2022-06-08T13:54:36.247598Z"
    },
    "code_folding": [],
    "collapsed": true
   },
   "outputs": [
    {
     "data": {
      "text/html": [
       "<div>\n",
       "<style scoped>\n",
       "    .dataframe tbody tr th:only-of-type {\n",
       "        vertical-align: middle;\n",
       "    }\n",
       "\n",
       "    .dataframe tbody tr th {\n",
       "        vertical-align: top;\n",
       "    }\n",
       "\n",
       "    .dataframe thead th {\n",
       "        text-align: right;\n",
       "    }\n",
       "</style>\n",
       "<table border=\"1\" class=\"dataframe\">\n",
       "  <thead>\n",
       "    <tr style=\"text-align: right;\">\n",
       "      <th></th>\n",
       "      <th>first_idx</th>\n",
       "      <th>second_idx</th>\n",
       "    </tr>\n",
       "  </thead>\n",
       "  <tbody>\n",
       "    <tr>\n",
       "      <th>0</th>\n",
       "      <td>[[3]]</td>\n",
       "      <td>[[6]]</td>\n",
       "    </tr>\n",
       "    <tr>\n",
       "      <th>1</th>\n",
       "      <td>[[1]]</td>\n",
       "      <td>[[4]]</td>\n",
       "    </tr>\n",
       "    <tr>\n",
       "      <th>2</th>\n",
       "      <td>[[2]]</td>\n",
       "      <td>[[8]]</td>\n",
       "    </tr>\n",
       "    <tr>\n",
       "      <th>3</th>\n",
       "      <td>[[5]]</td>\n",
       "      <td>[[9]]</td>\n",
       "    </tr>\n",
       "    <tr>\n",
       "      <th>4</th>\n",
       "      <td>[[1, 15]]</td>\n",
       "      <td>[[16]]</td>\n",
       "    </tr>\n",
       "  </tbody>\n",
       "</table>\n",
       "</div>"
      ],
      "text/plain": [
       "   first_idx second_idx\n",
       "0      [[3]]      [[6]]\n",
       "1      [[1]]      [[4]]\n",
       "2      [[2]]      [[8]]\n",
       "3      [[5]]      [[9]]\n",
       "4  [[1, 15]]     [[16]]"
      ]
     },
     "execution_count": 95,
     "metadata": {},
     "output_type": "execute_result"
    }
   ],
   "source": [
    "# 寻找实体在句子中出现的所有位置\n",
    "temp_df = pd.DataFrame()\n",
    "\n",
    "def find_idx(a,b,sentence):\n",
    "    idx_a = []\n",
    "    idx_b = []\n",
    "    sentence = np.array(sentence)\n",
    "    \n",
    "    for i in range(len(a)):\n",
    "        idx = np.where(sentence==a[i])\n",
    "        idx = idx[0].tolist()\n",
    "        idx_a.append(idx)\n",
    "        \n",
    "    for i in range(len(b)):\n",
    "        idx = np.where(sentence==b[i])\n",
    "        idx = idx[0].tolist()\n",
    "        idx_b.append(idx)\n",
    "        \n",
    "    return idx_a,idx_b\n",
    "\n",
    "            \n",
    "temp_df['first_idx'] = data.apply(lambda x:find_idx(x['first'],x['second'],x['sentence'])[0],axis=1)\n",
    "temp_df['second_idx'] = data.apply(lambda x:find_idx(x['second'],x['second'],x['sentence'])[1],axis=1)\n",
    "temp_df.head()"
   ]
  },
  {
   "cell_type": "code",
   "execution_count": 100,
   "id": "96eb5e64",
   "metadata": {
    "ExecuteTime": {
     "end_time": "2022-06-08T13:58:28.493597Z",
     "start_time": "2022-06-08T13:58:28.411598Z"
    },
    "code_folding": [],
    "collapsed": true
   },
   "outputs": [
    {
     "name": "stdout",
     "output_type": "stream",
     "text": [
      "1111111\n",
      "1111111\n"
     ]
    },
    {
     "data": {
      "text/html": [
       "<div>\n",
       "<style scoped>\n",
       "    .dataframe tbody tr th:only-of-type {\n",
       "        vertical-align: middle;\n",
       "    }\n",
       "\n",
       "    .dataframe tbody tr th {\n",
       "        vertical-align: top;\n",
       "    }\n",
       "\n",
       "    .dataframe thead th {\n",
       "        text-align: right;\n",
       "    }\n",
       "</style>\n",
       "<table border=\"1\" class=\"dataframe\">\n",
       "  <thead>\n",
       "    <tr style=\"text-align: right;\">\n",
       "      <th></th>\n",
       "      <th>first</th>\n",
       "      <th>second</th>\n",
       "      <th>sentence</th>\n",
       "      <th>label</th>\n",
       "      <th>first_idx</th>\n",
       "      <th>second_idx</th>\n",
       "    </tr>\n",
       "  </thead>\n",
       "  <tbody>\n",
       "    <tr>\n",
       "      <th>0</th>\n",
       "      <td>[audits]</td>\n",
       "      <td>[waste]</td>\n",
       "      <td>[the, most, common, audits, were, about, waste...</td>\n",
       "      <td>Message-Topic(e1,e2)</td>\n",
       "      <td>[3]</td>\n",
       "      <td>[6]</td>\n",
       "    </tr>\n",
       "    <tr>\n",
       "      <th>1</th>\n",
       "      <td>[company]</td>\n",
       "      <td>[chairs]</td>\n",
       "      <td>[the, company, fabricates, plastic, chairs]</td>\n",
       "      <td>Product-Producer(e2,e1)</td>\n",
       "      <td>[1]</td>\n",
       "      <td>[4]</td>\n",
       "    </tr>\n",
       "    <tr>\n",
       "      <th>2</th>\n",
       "      <td>[master]</td>\n",
       "      <td>[stick]</td>\n",
       "      <td>[the, school, master, teaches, the, lesson, wi...</td>\n",
       "      <td>Instrument-Agency(e2,e1)</td>\n",
       "      <td>[2]</td>\n",
       "      <td>[8]</td>\n",
       "    </tr>\n",
       "    <tr>\n",
       "      <th>3</th>\n",
       "      <td>[body]</td>\n",
       "      <td>[reservoir]</td>\n",
       "      <td>[the, suspect, dumped, the, dead, body, into, ...</td>\n",
       "      <td>Entity-Destination(e1,e2)</td>\n",
       "      <td>[5]</td>\n",
       "      <td>[9]</td>\n",
       "    </tr>\n",
       "    <tr>\n",
       "      <th>4</th>\n",
       "      <td>[influenza]</td>\n",
       "      <td>[virus]</td>\n",
       "      <td>[avian, influenza, is, an, infectious, disease...</td>\n",
       "      <td>Cause-Effect(e2,e1)</td>\n",
       "      <td>[15]</td>\n",
       "      <td>[16]</td>\n",
       "    </tr>\n",
       "  </tbody>\n",
       "</table>\n",
       "</div>"
      ],
      "text/plain": [
       "         first       second  \\\n",
       "0     [audits]      [waste]   \n",
       "1    [company]     [chairs]   \n",
       "2     [master]      [stick]   \n",
       "3       [body]  [reservoir]   \n",
       "4  [influenza]      [virus]   \n",
       "\n",
       "                                            sentence  \\\n",
       "0  [the, most, common, audits, were, about, waste...   \n",
       "1        [the, company, fabricates, plastic, chairs]   \n",
       "2  [the, school, master, teaches, the, lesson, wi...   \n",
       "3  [the, suspect, dumped, the, dead, body, into, ...   \n",
       "4  [avian, influenza, is, an, infectious, disease...   \n",
       "\n",
       "                       label first_idx second_idx  \n",
       "0       Message-Topic(e1,e2)       [3]        [6]  \n",
       "1    Product-Producer(e2,e1)       [1]        [4]  \n",
       "2   Instrument-Agency(e2,e1)       [2]        [8]  \n",
       "3  Entity-Destination(e1,e2)       [5]        [9]  \n",
       "4        Cause-Effect(e2,e1)      [15]       [16]  "
      ]
     },
     "execution_count": 100,
     "metadata": {},
     "output_type": "execute_result"
    }
   ],
   "source": [
    "# 利用两实体间的位置关系确定准确位置\n",
    "def judge_idx(a,b):\n",
    "    idx_a=[]\n",
    "    idx_b=[]\n",
    "    if len(a)==1 & len(b)==1:\n",
    "        if len(a[0])==1:\n",
    "            idx_a.append(a[0][0])\n",
    "            if len(b[0])!=1:\n",
    "                b = np.array(b[0])\n",
    "                a = np.array(a[0])\n",
    "                b = b[b>a]\n",
    "                idx_b.append(b[0])\n",
    "\n",
    "            else:\n",
    "                idx_b.append(b[0][0])\n",
    "        else:\n",
    "            if len(b[0])==1:\n",
    "                idx_b.append(b[0][0])\n",
    "                b = np.array(b[0])\n",
    "                a = np.array(a[0])\n",
    "                a = a[a<b]\n",
    "                if len(a)==1:\n",
    "                    idx_a.append(a[0])\n",
    "                else:\n",
    "                    idx_a.append(a[-1])\n",
    "            else:\n",
    "                dis=[]\n",
    "                tem=[]\n",
    "                for i in a[0]:\n",
    "                    for j in b[0]:\n",
    "                        if i<j:\n",
    "                            dis.append(j-i)\n",
    "                            tem.append([i,j])\n",
    "                            break;\n",
    "                tar = dis.index(min(dis))\n",
    "                idx_a.append(tem[tar][0])\n",
    "                idx_b.append(tem[tar][1])\n",
    "                \n",
    "    else:\n",
    "        if len(a)==1:\n",
    "            for i in range(len(b)):\n",
    "                if len(b[i])==1:\n",
    "                    for j in range(0,i):\n",
    "                        idx_b.append(b[i][0]-i+j)\n",
    "                    for j in range(i,len(b)):\n",
    "                        idx_b.append(b[i][0]+j-i)\n",
    "                    break\n",
    "\n",
    "            \n",
    "            if len(a[0])==1:\n",
    "                idx_a.append(a[0][0])\n",
    "            else:\n",
    "                b = np.array(idx_b[0])\n",
    "                a = np.array(a[0])\n",
    "                a = a[a<b]\n",
    "                if len(a)==1:\n",
    "                    idx_a.append(a[0])\n",
    "                else:\n",
    "                    idx_a.append(a[-1])\n",
    "\n",
    "        elif len(b)==1:\n",
    "            for i in range(len(a)):\n",
    "                if len(a[i])==1:\n",
    "                    for j in range(0,i):\n",
    "                        idx_a.append(a[i][0]-i+j)\n",
    "                    for j in range(i,len(a)):\n",
    "                        idx_a.append(a[i][0]+j-i)\n",
    "                    break\n",
    "\n",
    "            if len(b[0])==1:\n",
    "                idx_b.append(b[0][0])\n",
    "            else:\n",
    "                a = np.array(idx_a[-1])\n",
    "                b = np.array(b[0])\n",
    "                b = b[a<b]\n",
    "                idx_b.append(b[0])      \n",
    "        \n",
    "        else:\n",
    "            for i in range(len(b)):\n",
    "                if len(b[i])==1:\n",
    "                    for j in range(0,i):\n",
    "                        idx_b.append(b[i][0]-i+j)\n",
    "                    for j in range(i,len(b)):\n",
    "                        idx_b.append(b[i][0]+j-i)\n",
    "                    break\n",
    "                    \n",
    "            for i in range(len(a)):\n",
    "                if len(a[i])==1:\n",
    "                    for j in range(0,i):\n",
    "                        idx_a.append(a[i][0]-i+j)\n",
    "                    for j in range(i,len(a)):\n",
    "                        idx_a.append(a[i][0]+j-i)\n",
    "                    break\n",
    "    return idx_a,idx_b                       \n",
    "\n",
    "data['first_idx'] = temp_df.apply(lambda x:judge_idx(x['first_idx'],x['second_idx'])[0],axis=1)\n",
    "data['second_idx'] = temp_df.apply(lambda x:judge_idx(x['first_idx'],x['second_idx'])[1],axis=1)\n",
    "data.head()"
   ]
  },
  {
   "cell_type": "markdown",
   "id": "901cabde",
   "metadata": {},
   "source": [
    "#### 将19个类别进行编码，并将处理好的数据保存pickle格式以保留数据的原始类型"
   ]
  },
  {
   "cell_type": "code",
   "execution_count": 69,
   "id": "d73da308",
   "metadata": {
    "ExecuteTime": {
     "end_time": "2022-06-08T17:02:03.608898Z",
     "start_time": "2022-06-08T17:02:03.591899Z"
    }
   },
   "outputs": [
    {
     "data": {
      "text/html": [
       "<div>\n",
       "<style scoped>\n",
       "    .dataframe tbody tr th:only-of-type {\n",
       "        vertical-align: middle;\n",
       "    }\n",
       "\n",
       "    .dataframe tbody tr th {\n",
       "        vertical-align: top;\n",
       "    }\n",
       "\n",
       "    .dataframe thead th {\n",
       "        text-align: right;\n",
       "    }\n",
       "</style>\n",
       "<table border=\"1\" class=\"dataframe\">\n",
       "  <thead>\n",
       "    <tr style=\"text-align: right;\">\n",
       "      <th></th>\n",
       "      <th>first</th>\n",
       "      <th>second</th>\n",
       "      <th>sentence</th>\n",
       "      <th>label</th>\n",
       "      <th>Label</th>\n",
       "    </tr>\n",
       "  </thead>\n",
       "  <tbody>\n",
       "    <tr>\n",
       "      <th>0</th>\n",
       "      <td>[configurationl]</td>\n",
       "      <td>[elements]</td>\n",
       "      <td>[the, system, as, described, above, has, its, ...</td>\n",
       "      <td>Component-Whole(e2,e1)</td>\n",
       "      <td>3</td>\n",
       "    </tr>\n",
       "    <tr>\n",
       "      <th>1</th>\n",
       "      <td>[child]</td>\n",
       "      <td>[cradle]</td>\n",
       "      <td>[the, child, was, carefully, wrapped, and, bou...</td>\n",
       "      <td>Other</td>\n",
       "      <td>16</td>\n",
       "    </tr>\n",
       "    <tr>\n",
       "      <th>2</th>\n",
       "      <td>[author]</td>\n",
       "      <td>[disassembler]</td>\n",
       "      <td>[the, author, of, a, keygen, uses, a, disassem...</td>\n",
       "      <td>Instrument-Agency(e2,e1)</td>\n",
       "      <td>11</td>\n",
       "    </tr>\n",
       "    <tr>\n",
       "      <th>3</th>\n",
       "      <td>[ridge]</td>\n",
       "      <td>[surge]</td>\n",
       "      <td>[a, misty, ridge, uprises, from, the, surge]</td>\n",
       "      <td>Other</td>\n",
       "      <td>16</td>\n",
       "    </tr>\n",
       "    <tr>\n",
       "      <th>4</th>\n",
       "      <td>[student]</td>\n",
       "      <td>[association]</td>\n",
       "      <td>[the, student, association, is, the, voice, of...</td>\n",
       "      <td>Member-Collection(e1,e2)</td>\n",
       "      <td>12</td>\n",
       "    </tr>\n",
       "  </tbody>\n",
       "</table>\n",
       "</div>"
      ],
      "text/plain": [
       "              first          second  \\\n",
       "0  [configurationl]      [elements]   \n",
       "1           [child]        [cradle]   \n",
       "2          [author]  [disassembler]   \n",
       "3           [ridge]         [surge]   \n",
       "4         [student]   [association]   \n",
       "\n",
       "                                            sentence  \\\n",
       "0  [the, system, as, described, above, has, its, ...   \n",
       "1  [the, child, was, carefully, wrapped, and, bou...   \n",
       "2  [the, author, of, a, keygen, uses, a, disassem...   \n",
       "3       [a, misty, ridge, uprises, from, the, surge]   \n",
       "4  [the, student, association, is, the, voice, of...   \n",
       "\n",
       "                      label  Label  \n",
       "0    Component-Whole(e2,e1)      3  \n",
       "1                     Other     16  \n",
       "2  Instrument-Agency(e2,e1)     11  \n",
       "3                     Other     16  \n",
       "4  Member-Collection(e1,e2)     12  "
      ]
     },
     "execution_count": 69,
     "metadata": {},
     "output_type": "execute_result"
    }
   ],
   "source": [
    "label_encoder = LabelEncoder()\n",
    "label_encoder.fit(data[\"label\"])\n",
    "data[\"Label\"] = label_encoder.transform(data[\"label\"])\n",
    "data.head()"
   ]
  },
  {
   "cell_type": "code",
   "execution_count": 117,
   "id": "c404970e",
   "metadata": {
    "ExecuteTime": {
     "end_time": "2022-06-08T14:10:23.525476Z",
     "start_time": "2022-06-08T14:10:23.513477Z"
    }
   },
   "outputs": [],
   "source": [
    "data[['first_idx','second_idx','sentence','Label']].to_pickle('./processed_test.pickle')"
   ]
  },
  {
   "cell_type": "markdown",
   "id": "791812fe",
   "metadata": {},
   "source": [
    "# 词向量构建"
   ]
  },
  {
   "cell_type": "code",
   "execution_count": 306,
   "id": "19a4586d",
   "metadata": {
    "ExecuteTime": {
     "end_time": "2022-06-10T14:00:26.894235Z",
     "start_time": "2022-06-10T14:00:26.858237Z"
    }
   },
   "outputs": [],
   "source": [
    "train_data = pd.read_pickle('./processed_train.pickle')"
   ]
  },
  {
   "cell_type": "code",
   "execution_count": 307,
   "id": "0bb5ff7b",
   "metadata": {
    "ExecuteTime": {
     "end_time": "2022-06-10T14:00:27.280236Z",
     "start_time": "2022-06-10T14:00:27.184240Z"
    }
   },
   "outputs": [
    {
     "data": {
      "text/plain": [
       "19247"
      ]
     },
     "execution_count": 307,
     "metadata": {},
     "output_type": "execute_result"
    }
   ],
   "source": [
    "tokenizer = Tokenizer()\n",
    "tokenizer.fit_on_texts(pd.concat([train_data['sentence']],axis=0))\n",
    "vocab_size = len(tokenizer.word_index) + 1 \n",
    "vocab_size"
   ]
  },
  {
   "cell_type": "code",
   "execution_count": 308,
   "id": "428a0525",
   "metadata": {
    "ExecuteTime": {
     "end_time": "2022-06-10T14:00:37.014662Z",
     "start_time": "2022-06-10T14:00:27.632250Z"
    }
   },
   "outputs": [],
   "source": [
    "embeddings_dict = {}\n",
    "word2vec=[]\n",
    "with open('./Word2Vec/glove.6B.100d.txt', 'r',encoding=\"utf-8\") as f:\n",
    "    for line in f:\n",
    "        values = line.split()\n",
    "        word = values[0]\n",
    "        vector = np.asarray(values[1:], \"float32\")\n",
    "        if word in tokenizer.word_index.keys():\n",
    "            embeddings_dict[word] = vector\n",
    "            word2vec.append(vector)"
   ]
  },
  {
   "cell_type": "code",
   "execution_count": 309,
   "id": "74c7eb77",
   "metadata": {
    "ExecuteTime": {
     "end_time": "2022-06-10T14:00:37.029663Z",
     "start_time": "2022-06-10T14:00:37.015665Z"
    }
   },
   "outputs": [],
   "source": [
    "# 构建词典\n",
    "idx2word ={ i:k for i,k in enumerate(embeddings_dict.keys())}\n",
    "word2idx ={ k:i for i,k in enumerate(embeddings_dict.keys())}"
   ]
  },
  {
   "cell_type": "code",
   "execution_count": 310,
   "id": "c4927e31",
   "metadata": {
    "ExecuteTime": {
     "end_time": "2022-06-10T14:00:37.044663Z",
     "start_time": "2022-06-10T14:00:37.030663Z"
    }
   },
   "outputs": [
    {
     "name": "stdout",
     "output_type": "stream",
     "text": [
      "18360\n",
      "18361\n"
     ]
    }
   ],
   "source": [
    "# 定义新词\n",
    "pad_word,unk_word='<pad>', '<unk>'\n",
    "\n",
    "new_id=len(word2idx)\n",
    "idx2word[new_id]=pad_word\n",
    "word2idx[pad_word]=new_id\n",
    "idx2word[new_id+1]=unk_word\n",
    "word2idx[unk_word]=new_id+1\n",
    "print(word2idx[pad_word])\n",
    "print(word2idx[unk_word])"
   ]
  },
  {
   "cell_type": "code",
   "execution_count": 311,
   "id": "37756652",
   "metadata": {
    "ExecuteTime": {
     "end_time": "2022-06-10T14:00:37.059664Z",
     "start_time": "2022-06-10T14:00:37.045663Z"
    }
   },
   "outputs": [],
   "source": [
    "# 按照固定长度将文本转换为inx\n",
    "def word2index(sentence):\n",
    "    idx=[]\n",
    "    for i in sentence:\n",
    "        if i in word2idx.keys():\n",
    "            idx.append(word2idx[i])\n",
    "        else:\n",
    "            idx.append(word2idx['<unk>'])\n",
    "        \n",
    "    return idx"
   ]
  },
  {
   "cell_type": "code",
   "execution_count": 312,
   "id": "cc4ad6ae",
   "metadata": {
    "ExecuteTime": {
     "end_time": "2022-06-10T14:00:37.575675Z",
     "start_time": "2022-06-10T14:00:37.060665Z"
    }
   },
   "outputs": [
    {
     "data": {
      "text/html": [
       "<div>\n",
       "<style scoped>\n",
       "    .dataframe tbody tr th:only-of-type {\n",
       "        vertical-align: middle;\n",
       "    }\n",
       "\n",
       "    .dataframe tbody tr th {\n",
       "        vertical-align: top;\n",
       "    }\n",
       "\n",
       "    .dataframe thead th {\n",
       "        text-align: right;\n",
       "    }\n",
       "</style>\n",
       "<table border=\"1\" class=\"dataframe\">\n",
       "  <thead>\n",
       "    <tr style=\"text-align: right;\">\n",
       "      <th></th>\n",
       "      <th>first_idx</th>\n",
       "      <th>second_idx</th>\n",
       "      <th>sentence</th>\n",
       "      <th>Label</th>\n",
       "      <th>len</th>\n",
       "    </tr>\n",
       "  </thead>\n",
       "  <tbody>\n",
       "    <tr>\n",
       "      <th>0</th>\n",
       "      <td>[50]</td>\n",
       "      <td>[52]</td>\n",
       "      <td>[15, 10, 2929, 206, 14, 179, 599, 2449, 114, 0...</td>\n",
       "      <td>13</td>\n",
       "      <td>85</td>\n",
       "    </tr>\n",
       "    <tr>\n",
       "      <th>1</th>\n",
       "      <td>[24]</td>\n",
       "      <td>[27]</td>\n",
       "      <td>[3786, 1876, 9, 0, 774, 1, 3061, 16, 856, 1, 5...</td>\n",
       "      <td>16</td>\n",
       "      <td>82</td>\n",
       "    </tr>\n",
       "    <tr>\n",
       "      <th>2</th>\n",
       "      <td>[3]</td>\n",
       "      <td>[7]</td>\n",
       "      <td>[527, 4, 10456, 8639, 1, 12869, 2726, 4919, 53...</td>\n",
       "      <td>13</td>\n",
       "      <td>78</td>\n",
       "    </tr>\n",
       "    <tr>\n",
       "      <th>3</th>\n",
       "      <td>[64]</td>\n",
       "      <td>[69]</td>\n",
       "      <td>[14, 0, 8380, 4403, 330, 3893, 25, 311, 833, 4...</td>\n",
       "      <td>16</td>\n",
       "      <td>70</td>\n",
       "    </tr>\n",
       "    <tr>\n",
       "      <th>4</th>\n",
       "      <td>[62]</td>\n",
       "      <td>[65]</td>\n",
       "      <td>[0, 14570, 199, 43, 234, 9, 103, 14, 4534, 14,...</td>\n",
       "      <td>16</td>\n",
       "      <td>66</td>\n",
       "    </tr>\n",
       "  </tbody>\n",
       "</table>\n",
       "</div>"
      ],
      "text/plain": [
       "  first_idx second_idx                                           sentence  \\\n",
       "0      [50]       [52]  [15, 10, 2929, 206, 14, 179, 599, 2449, 114, 0...   \n",
       "1      [24]       [27]  [3786, 1876, 9, 0, 774, 1, 3061, 16, 856, 1, 5...   \n",
       "2       [3]        [7]  [527, 4, 10456, 8639, 1, 12869, 2726, 4919, 53...   \n",
       "3      [64]       [69]  [14, 0, 8380, 4403, 330, 3893, 25, 311, 833, 4...   \n",
       "4      [62]       [65]  [0, 14570, 199, 43, 234, 9, 103, 14, 4534, 14,...   \n",
       "\n",
       "   Label  len  \n",
       "0     13   85  \n",
       "1     16   82  \n",
       "2     13   78  \n",
       "3     16   70  \n",
       "4     16   66  "
      ]
     },
     "execution_count": 312,
     "metadata": {},
     "output_type": "execute_result"
    }
   ],
   "source": [
    "train_data = pd.read_pickle('./processed_train.pickle')\n",
    "train_data['sentence'] = train_data['sentence'].apply(word2index)\n",
    "train_data['len'] = train_data['sentence'].apply(lambda x: len(x))\n",
    "train_data.sort_values(['len'],inplace=True,ascending=False)\n",
    "train_data.reset_index(drop=True, inplace=True)\n",
    "train_data.head()"
   ]
  },
  {
   "cell_type": "code",
   "execution_count": 313,
   "id": "fe882d1a",
   "metadata": {
    "ExecuteTime": {
     "end_time": "2022-06-10T14:00:37.621672Z",
     "start_time": "2022-06-10T14:00:37.576673Z"
    }
   },
   "outputs": [
    {
     "data": {
      "text/html": [
       "<div>\n",
       "<style scoped>\n",
       "    .dataframe tbody tr th:only-of-type {\n",
       "        vertical-align: middle;\n",
       "    }\n",
       "\n",
       "    .dataframe tbody tr th {\n",
       "        vertical-align: top;\n",
       "    }\n",
       "\n",
       "    .dataframe thead th {\n",
       "        text-align: right;\n",
       "    }\n",
       "</style>\n",
       "<table border=\"1\" class=\"dataframe\">\n",
       "  <thead>\n",
       "    <tr style=\"text-align: right;\">\n",
       "      <th></th>\n",
       "      <th>first_idx</th>\n",
       "      <th>second_idx</th>\n",
       "      <th>sentence</th>\n",
       "      <th>Label</th>\n",
       "      <th>len</th>\n",
       "    </tr>\n",
       "  </thead>\n",
       "  <tbody>\n",
       "    <tr>\n",
       "      <th>0</th>\n",
       "      <td>[16]</td>\n",
       "      <td>[19]</td>\n",
       "      <td>[4, 48, 18361, 0, 18361, 5396, 2176, 121, 18, ...</td>\n",
       "      <td>13</td>\n",
       "      <td>62</td>\n",
       "    </tr>\n",
       "    <tr>\n",
       "      <th>1</th>\n",
       "      <td>[15]</td>\n",
       "      <td>[18]</td>\n",
       "      <td>[0, 436, 1061, 10797, 670, 16, 3088, 18361, 0,...</td>\n",
       "      <td>2</td>\n",
       "      <td>57</td>\n",
       "    </tr>\n",
       "    <tr>\n",
       "      <th>2</th>\n",
       "      <td>[11]</td>\n",
       "      <td>[14]</td>\n",
       "      <td>[0, 18361, 3340, 1, 1317, 9, 5, 352, 2083, 16,...</td>\n",
       "      <td>13</td>\n",
       "      <td>57</td>\n",
       "    </tr>\n",
       "    <tr>\n",
       "      <th>3</th>\n",
       "      <td>[48]</td>\n",
       "      <td>[51]</td>\n",
       "      <td>[4, 1032, 2, 0, 18361, 0, 291, 1867, 217, 5230...</td>\n",
       "      <td>13</td>\n",
       "      <td>54</td>\n",
       "    </tr>\n",
       "    <tr>\n",
       "      <th>4</th>\n",
       "      <td>[16]</td>\n",
       "      <td>[18]</td>\n",
       "      <td>[32, 879, 17, 174, 12855, 50, 32, 879, 4, 5, 3...</td>\n",
       "      <td>13</td>\n",
       "      <td>52</td>\n",
       "    </tr>\n",
       "  </tbody>\n",
       "</table>\n",
       "</div>"
      ],
      "text/plain": [
       "  first_idx second_idx                                           sentence  \\\n",
       "0      [16]       [19]  [4, 48, 18361, 0, 18361, 5396, 2176, 121, 18, ...   \n",
       "1      [15]       [18]  [0, 436, 1061, 10797, 670, 16, 3088, 18361, 0,...   \n",
       "2      [11]       [14]  [0, 18361, 3340, 1, 1317, 9, 5, 352, 2083, 16,...   \n",
       "3      [48]       [51]  [4, 1032, 2, 0, 18361, 0, 291, 1867, 217, 5230...   \n",
       "4      [16]       [18]  [32, 879, 17, 174, 12855, 50, 32, 879, 4, 5, 3...   \n",
       "\n",
       "   Label  len  \n",
       "0     13   62  \n",
       "1      2   57  \n",
       "2     13   57  \n",
       "3     13   54  \n",
       "4     13   52  "
      ]
     },
     "execution_count": 313,
     "metadata": {},
     "output_type": "execute_result"
    }
   ],
   "source": [
    "test_data = pd.read_pickle('./processed_test.pickle')\n",
    "test_data = test_data[test_data['Label']!=16]\n",
    "test_data.reset_index(drop=True, inplace=True)\n",
    "test_data['sentence'] = test_data['sentence'].apply(word2index)\n",
    "test_data['len'] = test_data['sentence'].apply(lambda x: len(x))\n",
    "test_data.sort_values(['len'],inplace=True,ascending=False)\n",
    "test_data.reset_index(drop=True, inplace=True)\n",
    "test_data.head()"
   ]
  },
  {
   "cell_type": "code",
   "execution_count": null,
   "id": "ec0b0cf4",
   "metadata": {},
   "outputs": [],
   "source": []
  },
  {
   "cell_type": "markdown",
   "id": "391c2ac2",
   "metadata": {},
   "source": [
    "# 数据构造"
   ]
  },
  {
   "cell_type": "code",
   "execution_count": 11,
   "id": "f7cb926d",
   "metadata": {
    "ExecuteTime": {
     "end_time": "2022-06-10T08:00:05.823209Z",
     "start_time": "2022-06-10T08:00:05.808209Z"
    },
    "code_folding": [
     0
    ]
   },
   "outputs": [],
   "source": [
    "def make_data(sen,e1,e2,Len,Label):\n",
    "    max_len = len(sen[0])\n",
    "    mask=np.array([[[False for i in range(max_len)] for i in range(5)] for i in range(len(sen))])\n",
    "    \n",
    "    for i in range(len(sen)):\n",
    "        mask[i][0][0:max(e1[i])+1]=True\n",
    "        mask[i][1][min(e1[i]):max(e2[i])+1]=True\n",
    "        mask[i][2][min(e2[i]):Len[i]]=True\n",
    "        mask[i][3][min(e1[i]):max(e1[i])+1]=True\n",
    "        mask[i][4][min(e2[i]):max(e2[i])+1]=True\n",
    "        \n",
    "    for i in range(len(sen)):\n",
    "        if len(sen[i])<max_len:\n",
    "            sen[i].extend(word2idx['<pad>'] for i in range(max_len-len(sen[i])))\n",
    "            \n",
    "            \n",
    "    location=np.array([[[0 for i in range(max_len)] for i in range(2)] for i in range(len(sen))])\n",
    "    for i in range(len(sen)):\n",
    "        for j in range(max_len):\n",
    "            if j in e1[i]:\n",
    "                location[i][0][j] = 0\n",
    "            else:\n",
    "                location[i][0][j] = j-min(e1[i])\n",
    "            if j in e2[i]:\n",
    "                location[i][1][j] = 0\n",
    "            else:\n",
    "                location[i][1][j] = j-min(e2[i])\n",
    "        \n",
    "    location = location.reshape(len(location),-1,len(location[0]))            \n",
    "    sen = torch.LongTensor(sen)\n",
    "    Label = torch.LongTensor(Label)\n",
    "    mask = torch.BoolTensor(mask)\n",
    "    \n",
    "    return sen,torch.BoolTensor(mask),Label,location\n"
   ]
  },
  {
   "cell_type": "code",
   "execution_count": 12,
   "id": "b5483ade",
   "metadata": {
    "ExecuteTime": {
     "end_time": "2022-06-10T08:00:05.839207Z",
     "start_time": "2022-06-10T08:00:05.825211Z"
    }
   },
   "outputs": [],
   "source": [
    "class TranslateDataSet(Data.Dataset): # 重载Dataset类\n",
    "    def __init__(self,sen,mask,Label,position):\n",
    "        self.sen = sen\n",
    "        self.Label = Label\n",
    "        self.mask = mask\n",
    "        self.position = position\n",
    "        \n",
    "    def __len__(self): # 获取数据集大小\n",
    "        return len(self.sen)\n",
    "    \n",
    "    def __getitem__(self, idx): # 获取单个字符\n",
    "        return self.sen[idx], self.mask[idx], self.Label[idx], self.position[idx]"
   ]
  },
  {
   "cell_type": "markdown",
   "id": "a6f3fcc3",
   "metadata": {},
   "source": [
    "## BiGRU-1"
   ]
  },
  {
   "cell_type": "code",
   "execution_count": 314,
   "id": "7dfa8aa0",
   "metadata": {
    "ExecuteTime": {
     "end_time": "2022-06-10T14:01:10.083781Z",
     "start_time": "2022-06-10T14:01:10.067779Z"
    }
   },
   "outputs": [],
   "source": [
    "embedding_dim = 100\n",
    "n_hidden = 64\n",
    "batch_size = 64"
   ]
  },
  {
   "cell_type": "code",
   "execution_count": 322,
   "id": "68913d4a",
   "metadata": {
    "ExecuteTime": {
     "end_time": "2022-06-10T15:22:34.150915Z",
     "start_time": "2022-06-10T15:22:34.123917Z"
    },
    "code_folding": [
     9
    ]
   },
   "outputs": [],
   "source": [
    "class BiGRU_atten(nn.Module):\n",
    "    def __init__(self, embedding):\n",
    "        super(BiGRU_atten, self).__init__()\n",
    "        self.embedding = embedding\n",
    "        self.GRU = nn.GRU(embedding_dim, n_hidden, bidirectional=True, batch_first=True)\n",
    "        self.linear = nn.Linear(n_hidden*6,19)\n",
    "        self.att_cat = nn.Linear(n_hidden*2+embedding_dim, 1)\n",
    "        self.att_cat0 = nn.Linear(n_hidden*2, 1)\n",
    "               \n",
    "    def dot_atten(self,lstm_output, final_state):\n",
    "        mask1 = lstm_output.eq(0)\n",
    "        mask1 = mask1.masked_fill(mask1,float('-inf'))[:,:,0]\n",
    "\n",
    "        batch_size = len(lstm_output)\n",
    "        # final_state[0]---正向；final_state[1]---逆向。\n",
    "        hidden_ = torch.concat((final_state[0],final_state[1]),dim=-1)\n",
    "        # hidden_: [B,H*2]\n",
    "        hidden = hidden_.unsqueeze(-1)\n",
    "\n",
    "        # lstm_out:[B, max_w_len, H*2] hidden:[B,H*2,1] atten_weight:[B,max_w_len,1]\n",
    "        atten_weights = (torch.bmm(lstm_output, hidden)+mask1.unsqueeze(-1)).squeeze(2)\n",
    "        soft_atten_weights = F.softmax(atten_weights,1).unsqueeze(2)\n",
    "\n",
    "        # lstm_out:[B, max_w_len, H*2] ->[B, H*2,max_w_len] soft_attn_weights:[B,max_w_len,1]\n",
    "        lstm_output = lstm_output.transpose(1,2)\n",
    "        context = torch.bmm(lstm_output,soft_atten_weights).squeeze(2)\n",
    "        \n",
    "        return context\n",
    "    \n",
    "    def attention_net(self,lstm_output):\n",
    "        mask3 = lstm_output.eq(0)\n",
    "        mask3 = mask3.masked_fill(mask3,float('-inf'))[:,:,0]\n",
    "        \n",
    "        attn_weights = torch.tanh(self.att_cat0(lstm_output))\n",
    "        attn_weights= (attn_weights+mask3.unsqueeze(-1)).squeeze(2)       \n",
    "        \n",
    "        soft_attn_weights = F.softmax(attn_weights,1)\n",
    "        context = torch.bmm(lstm_output.transpose(2,1),soft_attn_weights.unsqueeze(2)).squeeze(2)\n",
    "        context = torch.tanh(context)\n",
    "        \n",
    "        return context\n",
    "       \n",
    "    def entity_atten(self,lstm_output,e):\n",
    "        # lstm_output : [batch_size, max_w_len, n_hidden * num_directions(=2)]\n",
    "        # e : [B, embedding]\n",
    "        mask2 = lstm_output.eq(0)\n",
    "        mask2 = mask2.masked_fill(mask2,float('-inf'))[:,:,0]\n",
    "        \n",
    "        # [B,len,emb+H*2][B,emb,1] [B,len,1]\n",
    "        E = e.repeat(1,lstm_output.size(1)).reshape(lstm_output.size(0),lstm_output.size(1),embedding_dim)\n",
    "        HE = torch.cat((lstm_output,E),dim=-1)\n",
    "        attn_weights = torch.tanh(self.att_cat(HE))\n",
    "        attn_weights= (attn_weights+mask2.unsqueeze(-1)).squeeze(2)\n",
    "#         attn_weights= (torch.bmm(HE,e.unsqueeze(-1))).squeeze(2)\n",
    "\n",
    "        soft_attn_weights = F.softmax(attn_weights,1)\n",
    "        context = torch.bmm(lstm_output.transpose(2,1),soft_attn_weights.unsqueeze(2)).squeeze(2)\n",
    "        context = torch.tanh(context)\n",
    "        \n",
    "        return context\n",
    "\n",
    "    def forward(self,X,mask):\n",
    "        x = X\n",
    "        x.copy_(X)\n",
    "        x = x.numpy().tolist()\n",
    "        word_len = [i.index(word2idx['<pad>']) if i[-1]==word2idx['<pad>'] else len(i) for i in x]\n",
    "        \n",
    "        x_input = self.embedding(X)\n",
    "        \n",
    "        embed_input_x_packed = pack_padded_sequence(x_input,word_len,batch_first=True)\n",
    "        output,final_hidden_state = self.GRU(embed_input_x_packed)\n",
    "        output,_ = pad_packed_sequence(output, batch_first=True)\n",
    "        output = F.dropout(output,p=0.2)\n",
    "        \n",
    "        # [B,5,max_len]->[B,3,seq_len]->[H*2,B,seq_len]->[B,seq_len,H*2]\n",
    "        mask = mask[:,:,0:max(word_len)]\n",
    "        mask = mask.repeat(n_hidden*2,1,1,1).permute(1,2,3,0)\n",
    "        \n",
    "        x_input = x_input[:,0:max(word_len),:]\n",
    "        e1 = [x_input[i][mask[:,3,:,0:embedding_dim][i]].reshape(-1,embedding_dim) for i in range(output.size(0))]\n",
    "        e1 = [F.avg_pool1d(ei.permute(1,0),kernel_size=ei.size(0)).detach().numpy().tolist() for ei in e1]\n",
    "        e1 = torch.Tensor(np.array(e1)).squeeze(-1)\n",
    "        e2 = [x_input[i][mask[:,4,:,0:embedding_dim][i]].reshape(-1,embedding_dim) for i in range(output.size(0))]\n",
    "        e2 = [F.avg_pool1d(ei.permute(1,0),kernel_size=ei.size(0)).detach().numpy().tolist() for ei in e2]\n",
    "        e2 = torch.Tensor(np.array(e2)).squeeze(-1)\n",
    "        \n",
    "        hidden_ = self.attention_net(output)\n",
    "\n",
    "        E1 = self.entity_atten(output,e1)\n",
    "        E2 = self.entity_atten(output,e2)\n",
    "\n",
    "        context = torch.concat([E1,E2,hidden_],dim=-1)\n",
    "        context = F.dropout(context,p=0.5)\n",
    "        context = self.linear(context)\n",
    "        \n",
    "        return context\n",
    "# "
   ]
  },
  {
   "cell_type": "code",
   "execution_count": 323,
   "id": "7ba6bb98",
   "metadata": {
    "ExecuteTime": {
     "end_time": "2022-06-10T15:22:36.016932Z",
     "start_time": "2022-06-10T15:22:35.976932Z"
    }
   },
   "outputs": [
    {
     "name": "stdout",
     "output_type": "stream",
     "text": [
      "torch.Size([18362, 100])\n"
     ]
    }
   ],
   "source": [
    "# 构建词向量，并添加到权值矩阵中\n",
    "weights = torch.FloatTensor(np.array(word2vec))\n",
    "pad_vec=np.random.uniform(-np.sqrt(3.0 / embedding_dim), np.sqrt(3.0 / embedding_dim), embedding_dim)\n",
    "pad_vec=torch.Tensor(pad_vec).view(1,-1)\n",
    "weights=torch.cat([weights,pad_vec],dim=0)\n",
    "\n",
    "unk_vec=np.random.uniform(-np.sqrt(3.0 / embedding_dim), np.sqrt(3.0 / embedding_dim), embedding_dim)\n",
    "unk_vec=torch.Tensor(unk_vec).view(1,-1)\n",
    "weights=torch.cat([weights,unk_vec],dim=0)\n",
    "print(weights.shape)\n",
    "\n",
    "embedding1 = nn.Embedding.from_pretrained(embeddings=weights, freeze=False)"
   ]
  },
  {
   "cell_type": "code",
   "execution_count": 290,
   "id": "6bba9a91",
   "metadata": {
    "ExecuteTime": {
     "end_time": "2022-06-10T13:48:47.438318Z",
     "start_time": "2022-06-10T13:48:38.986392Z"
    },
    "code_folding": [
     4
    ]
   },
   "outputs": [],
   "source": [
    "model1 = BiGRU_atten(embedding1)\n",
    "criterion = nn.CrossEntropyLoss()\n",
    "optimizer1 = torch.optim.Adagrad(model1.parameters(), lr=0.01,weight_decay=1e-5)\n",
    "\n",
    "train_sen, train_mask, train_label, train_position = make_data(train_data['sentence'], train_data['first_idx'], \n",
    "                        train_data['second_idx'],train_data['len'], train_data['Label'])\n",
    "\n",
    "test_sen, test_mask, test_label, test_position = make_data(test_data['sentence'], test_data['first_idx'], \n",
    "                        test_data['second_idx'],test_data['len'], test_data['Label'])\n",
    "\n",
    "loader1 = Data.DataLoader(TranslateDataSet(train_sen, train_mask, train_label,train_position),batch_size, False)"
   ]
  },
  {
   "cell_type": "code",
   "execution_count": 64,
   "id": "48c4eb9b",
   "metadata": {
    "ExecuteTime": {
     "end_time": "2022-06-09T16:37:38.555119Z",
     "start_time": "2022-06-09T16:17:24.577739Z"
    },
    "code_folding": [],
    "scrolled": true
   },
   "outputs": [
    {
     "name": "stdout",
     "output_type": "stream",
     "text": [
      "Epoch: 01/30: train_loss = 1.779963, test_loss = 2.098791, train_acc = 0.405500, test_acc = 0.273531\n",
      "Epoch: 02/30: train_loss = 1.284909, test_loss = 1.829400, train_acc = 0.540750, test_acc = 0.370305\n",
      "Epoch: 03/30: train_loss = 0.972697, test_loss = 1.759029, train_acc = 0.628000, test_acc = 0.407424\n",
      "Epoch: 04/30: train_loss = 0.749614, test_loss = 1.821399, train_acc = 0.708500, test_acc = 0.417587\n",
      "Epoch: 05/30: train_loss = 0.485067, test_loss = 1.748904, train_acc = 0.813875, test_acc = 0.472382\n",
      "Epoch: 06/30: train_loss = 0.294623, test_loss = 1.627995, train_acc = 0.892000, test_acc = 0.524967\n",
      "Epoch: 07/30: train_loss = 0.197455, test_loss = 1.559158, train_acc = 0.931000, test_acc = 0.560318\n",
      "Epoch: 08/30: train_loss = 0.109935, test_loss = 1.448465, train_acc = 0.967375, test_acc = 0.602740\n",
      "Epoch: 09/30: train_loss = 0.077216, test_loss = 1.431951, train_acc = 0.980375, test_acc = 0.629253\n",
      "Epoch: 10/30: train_loss = 0.054857, test_loss = 1.461567, train_acc = 0.987875, test_acc = 0.631021\n",
      "Epoch: 11/30: train_loss = 0.034497, test_loss = 1.320061, train_acc = 0.994625, test_acc = 0.661511\n",
      "Epoch: 12/30: train_loss = 0.026467, test_loss = 1.347286, train_acc = 0.996625, test_acc = 0.666814\n",
      "Epoch: 13/30: train_loss = 0.027694, test_loss = 1.396461, train_acc = 0.995250, test_acc = 0.664605\n",
      "Epoch: 14/30: train_loss = 0.019896, test_loss = 1.293714, train_acc = 0.997375, test_acc = 0.684932\n",
      "Epoch: 15/30: train_loss = 0.018239, test_loss = 1.403378, train_acc = 0.997125, test_acc = 0.680071\n",
      "Epoch: 16/30: train_loss = 0.016037, test_loss = 1.287031, train_acc = 0.997875, test_acc = 0.698630\n",
      "Epoch: 17/30: train_loss = 0.017518, test_loss = 1.459821, train_acc = 0.997625, test_acc = 0.664163\n",
      "Epoch: 18/30: train_loss = 0.014172, test_loss = 1.327517, train_acc = 0.998500, test_acc = 0.695537\n",
      "Epoch: 19/30: train_loss = 0.016922, test_loss = 1.453683, train_acc = 0.996875, test_acc = 0.680954\n",
      "Epoch: 20/30: train_loss = 0.012683, test_loss = 1.349910, train_acc = 0.998625, test_acc = 0.690676\n",
      "Epoch: 21/30: train_loss = 0.013032, test_loss = 1.486064, train_acc = 0.998000, test_acc = 0.671675\n",
      "Epoch: 22/30: train_loss = 0.009155, test_loss = 1.374895, train_acc = 0.998875, test_acc = 0.689792\n",
      "Epoch: 23/30: train_loss = 0.014373, test_loss = 1.444289, train_acc = 0.998500, test_acc = 0.684490\n",
      "Epoch: 24/30: train_loss = 0.011170, test_loss = 1.339993, train_acc = 0.998375, test_acc = 0.699514\n",
      "Epoch: 25/30: train_loss = 0.013113, test_loss = 1.549419, train_acc = 0.998250, test_acc = 0.668582\n",
      "Epoch: 26/30: train_loss = 0.011428, test_loss = 1.374848, train_acc = 0.998500, test_acc = 0.707026\n",
      "Epoch: 27/30: train_loss = 0.011168, test_loss = 1.467812, train_acc = 0.998500, test_acc = 0.691118\n",
      "Epoch: 28/30: train_loss = 0.010998, test_loss = 1.474359, train_acc = 0.998625, test_acc = 0.689792\n",
      "Epoch: 29/30: train_loss = 0.013892, test_loss = 1.668563, train_acc = 0.997875, test_acc = 0.669023\n",
      "Epoch: 30/30: train_loss = 0.009647, test_loss = 1.428607, train_acc = 0.998500, test_acc = 0.692002\n"
     ]
    }
   ],
   "source": [
    "train_acc_lst1,test_acc_lst1=[],[]\n",
    "train_loss_lst1,test_loss_lst1=[],[]\n",
    "\n",
    "for epoch in range(30):\n",
    "    model1.train()\n",
    "    for i,(sen,mask,label,_) in enumerate(loader1):\n",
    "        pred = model1(sen,mask)\n",
    "        loss = criterion(pred,label)\n",
    "        optimizer1.zero_grad()\n",
    "        loss.backward()\n",
    "        optimizer1.step()\n",
    "    \n",
    "    model1.eval()\n",
    "    train_pred = model1(train_sen,train_mask)\n",
    "    train_loss = criterion(train_pred,train_label)\n",
    "    train_loss_lst1.append(train_loss.item())\n",
    "    _,train_pre_label = torch.max(train_pred, 1)\n",
    "    train_acc = accuracy_score(train_pre_label, train_label)\n",
    "    train_acc_lst1.append(train_acc)\n",
    "    \n",
    "    test_pred = model1(test_sen,test_mask)\n",
    "    test_loss = criterion(test_pred,test_label)\n",
    "    test_loss_lst1.append(test_loss.item())\n",
    "    _,test_pre_label = torch.max(test_pred, 1)\n",
    "    test_acc = accuracy_score(test_pre_label, test_label)\n",
    "    test_acc_lst1.append(test_acc)\n",
    "    \n",
    "    print('Epoch: %02d/30:' % (epoch+1),'train_loss = {:.6f}, test_loss = {:.6f}, train_acc = {:.6f}, test_acc = {:.6f}'.format(train_loss,test_loss,train_acc,test_acc))   "
   ]
  },
  {
   "cell_type": "code",
   "execution_count": null,
   "id": "fe203421",
   "metadata": {
    "code_folding": [
     1
    ]
   },
   "outputs": [],
   "source": [
    "torch.save(model1.state_dict(),'BiGRU-1.pkl')\n",
    "Re = pd.DataFrame({'train_loss':train_loss_lst1,'test_loss':test_loss_lst1\n",
    "                  ,'train_acc':train_acc_lst1,'test_acc':test_acc_lst1})\n",
    "Re.to_csv('./BiGRU-1.csv')"
   ]
  },
  {
   "cell_type": "code",
   "execution_count": 66,
   "id": "3da507aa",
   "metadata": {
    "ExecuteTime": {
     "end_time": "2022-06-09T16:39:18.169238Z",
     "start_time": "2022-06-09T16:39:17.847238Z"
    },
    "code_folding": [
     0
    ]
   },
   "outputs": [
    {
     "data": {
      "image/png": "[encoded data removed]",
      "text/plain": [
       "<Figure size 432x288 with 1 Axes>"
      ]
     },
     "metadata": {
      "needs_background": "light"
     },
     "output_type": "display_data"
    },
    {
     "data": {
      "image/png": "[encoded data removed]",
      "text/plain": [
       "<Figure size 432x288 with 1 Axes>"
      ]
     },
     "metadata": {
      "needs_background": "light"
     },
     "output_type": "display_data"
    }
   ],
   "source": [
    "# 绘制loss、f1曲线图\n",
    "plt.plot(np.arange(30),train_loss_lst3,label=\"train_loss\")\n",
    "plt.plot(np.arange(30),test_loss_lst3,label=\"test_loss\")\n",
    "plt.legend()\n",
    "plt.grid()\n",
    "plt.title('Loss')\n",
    "plt.show()\n",
    "\n",
    "plt.plot(np.arange(30),train_acc_lst3,label=\"train_acc\")\n",
    "plt.plot(np.arange(30),test_acc_lst3,label=\"test_acc\")\n",
    "plt.legend()\n",
    "plt.grid()\n",
    "plt.title('Accuracy')\n",
    "plt.show()"
   ]
  },
  {
   "cell_type": "markdown",
   "id": "9c5344de",
   "metadata": {
    "ExecuteTime": {
     "end_time": "2022-06-07T10:01:51.814786Z",
     "start_time": "2022-06-07T10:01:51.808785Z"
    }
   },
   "source": [
    "## BiGRU-2"
   ]
  },
  {
   "cell_type": "code",
   "execution_count": 316,
   "id": "93dcf005",
   "metadata": {
    "ExecuteTime": {
     "end_time": "2022-06-10T14:01:20.813662Z",
     "start_time": "2022-06-10T14:01:20.794661Z"
    },
    "code_folding": [
     8
    ]
   },
   "outputs": [],
   "source": [
    "class BiGRU_pool(nn.Module):\n",
    "    def __init__(self, embedding):\n",
    "        super(BiGRU_pool, self).__init__()\n",
    "        self.embedding = embedding\n",
    "        self.GRU = nn.GRU(embedding_dim, n_hidden, bidirectional=True, batch_first=True)\n",
    "        self.linear = nn.Linear(n_hidden*14+embedding_dim*2,n_hidden*2)\n",
    "        self.out = nn.Linear(n_hidden*2, 19)\n",
    "\n",
    "    def attention_net(self,lstm_output, final_state):\n",
    "        mask1 = lstm_output.eq(0)\n",
    "        mask1 = mask1.masked_fill(mask1,float('-inf'))[:,:,0]\n",
    "\n",
    "        batch_size = len(lstm_output)\n",
    "        # final_state[0]---正向；final_state[1]---逆向。\n",
    "        hidden_ = torch.concat((final_state[0],final_state[1]),dim=-1)\n",
    "        # hidden_: [B,H*2]\n",
    "        hidden = hidden_.unsqueeze(-1)\n",
    "\n",
    "        # lstm_out:[B, max_w_len, H*2] hidden:[B,H*2,1] atten_weight:[B,max_w_len,1]\n",
    "        atten_weights = (torch.bmm(lstm_output, hidden)+mask1.unsqueeze(-1)).squeeze(2)\n",
    "        soft_atten_weights = F.softmax(atten_weights,1).unsqueeze(2)\n",
    "\n",
    "        # lstm_out:[B, max_w_len, H*2] ->[B, H*2,max_w_len] soft_attn_weights:[B,max_w_len,1]\n",
    "        lstm_output = lstm_output.transpose(1,2)\n",
    "        context = torch.bmm(lstm_output,soft_atten_weights).squeeze(2)\n",
    "        \n",
    "        return context, soft_atten_weights\n",
    "    \n",
    "    def forward(self,X,mask):\n",
    "        x = X\n",
    "        x.copy_(X)\n",
    "        x = x.numpy().tolist()\n",
    "        word_len = [i.index(word2idx['<pad>']) if i[-1]=='<pad>' else len(i) for i in x]\n",
    "        \n",
    "        x_input = self.embedding(X)\n",
    "        \n",
    "        embed_input_x_packed = pack_padded_sequence(x_input,word_len,batch_first=True)\n",
    "        output,final_hidden_state = self.GRU(embed_input_x_packed)\n",
    "        output,_ = pad_packed_sequence(output, batch_first=True)\n",
    "        \n",
    "        # [B,5,max_len]->[B,3,seq_len]->[H*2,B,seq_len]->[B,seq_len,H*2]\n",
    "        mask = mask[:,:,0:max(word_len)]\n",
    "        mask = mask.repeat(n_hidden*2,1,1,1).permute(1,2,3,0)\n",
    "        output = F.dropout(output,p=0.2)\n",
    "        \n",
    "        e1 = [x_input[i][mask[:,3,:,0:embedding_dim][i]].reshape(-1,embedding_dim) for i in range(output.size(0))]\n",
    "        e1 = [F.avg_pool1d(ei.permute(1,0),kernel_size=ei.size(0)).detach().numpy().tolist() for ei in e1]\n",
    "        e1 = torch.Tensor(np.array(e1)).squeeze(-1)\n",
    "        e2 = [x_input[i][mask[:,4,:,0:embedding_dim][i]].reshape(-1,embedding_dim) for i in range(output.size(0))]\n",
    "        e2 = [F.avg_pool1d(ei.permute(1,0),kernel_size=ei.size(0)).detach().numpy().tolist() for ei in e2]\n",
    "        e2 = torch.Tensor(np.array(e2)).squeeze(-1)\n",
    "        \n",
    "        p1 = [output[i][mask[:,0,:,:][i]].reshape(-1,n_hidden*2) for i in range(output.size(0))]\n",
    "        p1max = [F.max_pool1d(pi.permute(1,0),kernel_size=pi.size(0)).detach().numpy().tolist() for pi in p1]\n",
    "        p1max = torch.Tensor(np.array(p1max))\n",
    "        p1avg = [F.avg_pool1d(pi.permute(1,0),kernel_size=pi.size(0)).detach().numpy().tolist() for pi in p1]\n",
    "        p1avg = torch.Tensor(np.array(p1avg))\n",
    "        m1= torch.concat((p1max.squeeze(-1),p1avg.squeeze(-1)),dim=-1)\n",
    "        \n",
    "        p2 = [output[i][mask[:,1,:,:][i]].reshape(-1,n_hidden*2) for i in range(output.size(0))]\n",
    "        p2max = [F.max_pool1d(pi.permute(1,0),kernel_size=pi.size(0)).detach().numpy().tolist() for pi in p2]\n",
    "        p2max = torch.Tensor(np.array(p2max))\n",
    "        p2avg = [F.avg_pool1d(pi.permute(1,0),kernel_size=pi.size(0)).detach().numpy().tolist() for pi in p2]\n",
    "        p2avg = torch.Tensor(np.array(p2avg))\n",
    "        m2= torch.concat((p2max.squeeze(-1),p2avg.squeeze(-1)),dim=-1)\n",
    "        \n",
    "        p3 = [output[i][mask[:,2,:,:][i]].reshape(-1,n_hidden*2) for i in range(output.size(0))]\n",
    "        p3max = [F.max_pool1d(pi.permute(1,0),kernel_size=pi.size(0)).detach().numpy().tolist() for pi in p3]\n",
    "        p3max = torch.Tensor(np.array(p3max))\n",
    "        p3avg = [F.avg_pool1d(pi.permute(1,0),kernel_size=pi.size(0)).detach().numpy().tolist() for pi in p3]\n",
    "        p3avg = torch.Tensor(np.array(p3avg))\n",
    "        m3= torch.concat((p3max.squeeze(-1),p3avg.squeeze(-1)),dim=-1)\n",
    "        \n",
    "        hidden_, attention = self.attention_net(output,final_hidden_state)\n",
    "\n",
    "        context = torch.concat([m1,e1,m2,e2,m3,hidden_],dim=-1)\n",
    "        context = F.dropout(context,p=0.2)\n",
    "        context = self.linear(context)\n",
    "        context = F.dropout(context,p=0.5)\n",
    "\n",
    "        return self.out(context)\n"
   ]
  },
  {
   "cell_type": "code",
   "execution_count": 303,
   "id": "dbc6979e",
   "metadata": {
    "ExecuteTime": {
     "end_time": "2022-06-10T13:59:48.008522Z",
     "start_time": "2022-06-10T13:59:47.998522Z"
    },
    "code_folding": [
     0
    ]
   },
   "outputs": [],
   "source": [
    "class RankingLossFunc(nn.Module):\n",
    "    def __init__(self):\n",
    "        super(RankingLossFunc, self).__init__()\n",
    "        self.mPos = 2.5\n",
    "        self.mNeg = 0.5\n",
    "        self.gamma = 0.05\n",
    "\n",
    "    def forward(self, pred, target):\n",
    "        value, index = torch.topk(pred,2,dim=1) # top2 score\n",
    "        noneOtherInd = target!=16 # not Other index\n",
    "        rows = torch.tensor(list(range(len(pred)))) #row index\n",
    "        part1 = pred[rows,target] # label score\n",
    "        part1 = torch.log(1+torch.exp(self.gamma*(self.mPos-part1)))\n",
    "        predT = index[:,0]==target\n",
    "        predF = index[:,0]!=target\n",
    "        part2 = torch.log(1+torch.exp(self.gamma*(self.mNeg+value))) \n",
    "        part2 = torch.dot(predT.float(),part2[:,1])+torch.dot(predF.float(),part2[:,0])\n",
    "        loss = torch.dot(noneOtherInd.float(),part1)+part2 # exclusive other loss\n",
    "        return loss/len(target)"
   ]
  },
  {
   "cell_type": "code",
   "execution_count": 317,
   "id": "2d021442",
   "metadata": {
    "ExecuteTime": {
     "end_time": "2022-06-10T14:01:22.035179Z",
     "start_time": "2022-06-10T14:01:22.012181Z"
    },
    "code_folding": []
   },
   "outputs": [],
   "source": [
    "model2 = BiGRU_pool(embedding1)\n",
    "criterion = nn.CrossEntropyLoss()\n",
    "# rankingloss = RankingLoss()\n",
    "optimizer2 = torch.optim.Adagrad(model2.parameters(), lr=0.01, weight_decay=1e-4)"
   ]
  },
  {
   "cell_type": "code",
   "execution_count": 110,
   "id": "bff59f76",
   "metadata": {
    "ExecuteTime": {
     "end_time": "2022-06-10T04:07:56.331511Z",
     "start_time": "2022-06-10T04:07:56.316509Z"
    },
    "code_folding": [],
    "scrolled": true
   },
   "outputs": [
    {
     "name": "stdout",
     "output_type": "stream",
     "text": [
      "Epoch: 01/30: train_loss = 1.758764, test_loss = 1.968540, train_acc = 0.404125, test_acc = 0.323906\n",
      "Epoch: 02/30: train_loss = 1.459047, test_loss = 1.594306, train_acc = 0.515125, test_acc = 0.463544\n",
      "Epoch: 03/30: train_loss = 1.247008, test_loss = 1.357753, train_acc = 0.599125, test_acc = 0.567388\n",
      "Epoch: 04/30: train_loss = 1.158504, test_loss = 1.266977, train_acc = 0.622625, test_acc = 0.602740\n",
      "Epoch: 05/30: train_loss = 1.053501, test_loss = 1.117918, train_acc = 0.665500, test_acc = 0.655325\n",
      "Epoch: 06/30: train_loss = 0.995885, test_loss = 1.052633, train_acc = 0.689625, test_acc = 0.684490\n",
      "Epoch: 07/30: train_loss = 0.958163, test_loss = 0.974881, train_acc = 0.703500, test_acc = 0.718957\n",
      "Epoch: 08/30: train_loss = 0.977247, test_loss = 0.977773, train_acc = 0.698375, test_acc = 0.726027\n",
      "Epoch: 09/30: train_loss = 0.902014, test_loss = 0.921076, train_acc = 0.729500, test_acc = 0.733540\n",
      "Epoch: 10/30: train_loss = 0.846723, test_loss = 0.923086, train_acc = 0.743500, test_acc = 0.726469\n",
      "Epoch: 11/30: train_loss = 0.753274, test_loss = 0.874860, train_acc = 0.766500, test_acc = 0.747238\n",
      "Epoch: 12/30: train_loss = 0.686844, test_loss = 0.894773, train_acc = 0.792250, test_acc = 0.733981\n",
      "Epoch: 13/30: train_loss = 0.555546, test_loss = 0.928645, train_acc = 0.840000, test_acc = 0.728237\n",
      "Epoch: 14/30: train_loss = 0.513465, test_loss = 0.997021, train_acc = 0.851000, test_acc = 0.721167\n",
      "Epoch: 15/30: train_loss = 0.456086, test_loss = 1.095125, train_acc = 0.864000, test_acc = 0.705095\n",
      "Epoch: 16/30: train_loss = 0.522436, test_loss = 0.931546, train_acc = 0.836625, test_acc = 0.732214\n",
      "Epoch: 17/30: train_loss = 0.418151, test_loss = 0.929845, train_acc = 0.875125, test_acc = 0.730092\n",
      "Epoch: 18/30: train_loss = 0.447680, test_loss = 1.032606, train_acc = 0.864375, test_acc = 0.708957\n",
      "Epoch: 19/30: train_loss = 0.377973, test_loss = 0.922504, train_acc = 0.888875, test_acc = 0.723376\n",
      "Epoch: 20/30: train_loss = 0.334898, test_loss = 1.087345, train_acc = 0.901250, test_acc = 0.713491\n",
      "Epoch: 21/30: train_loss = 0.298709, test_loss = 1.091601, train_acc = 0.914875, test_acc = 0.710954\n",
      "Epoch: 22/30: train_loss = 0.293186, test_loss = 0.901361, train_acc = 0.912750, test_acc = 0.733049\n",
      "Epoch: 23/30: train_loss = 0.283092, test_loss = 1.090182, train_acc = 0.917375, test_acc = 0.715886\n",
      "Epoch: 24/30: train_loss = 0.278205, test_loss = 0.910247, train_acc = 0.917500, test_acc = 0.729002\n",
      "Epoch: 25/30: train_loss = 0.237105, test_loss = 0.925805, train_acc = 0.932875, test_acc = 0.724048\n",
      "Epoch: 26/30: train_loss = 0.218332, test_loss = 0.898005, train_acc = 0.938875, test_acc = 0.739477\n",
      "Epoch: 27/30: train_loss = 0.215633, test_loss = 0.899635, train_acc = 0.933250, test_acc = 0.739953\n",
      "Epoch: 28/30: train_loss = 0.205054, test_loss = 0.929018, train_acc = 0.944500, test_acc = 0.727976\n",
      "Epoch: 29/30: train_loss = 0.179386, test_loss = 0.921894, train_acc = 0.950875, test_acc = 0.724932\n",
      "Epoch: 30/30: train_loss = 0.185423, test_loss = 0.895853, train_acc = 0.948375, test_acc = 0.738745\n"
     ]
    }
   ],
   "source": [
    "train_acc_lst2,test_acc_lst2=[],[]\n",
    "train_loss_lst2,test_loss_lst2=[],[]\n",
    "\n",
    "for epoch in range(30):\n",
    "    model2.train()\n",
    "    for i,(sen,mask,label,_) in enumerate(loader1):\n",
    "        pred = model2(sen,mask)\n",
    "        loss = criterion(pred,label)\n",
    "        optimizer2.zero_grad()\n",
    "        loss.backward()\n",
    "        optimizer2.step()\n",
    "    \n",
    "    model2.eval()\n",
    "    train_pred = model1(train_sen,train_mask)\n",
    "    train_loss = criterion(train_pred,train_label)\n",
    "    train_loss_lst2.append(train_loss.item())\n",
    "    _,train_pre_label = torch.max(train_pred, 1)\n",
    "    train_acc = accuracy_score(train_pre_label, train_label)\n",
    "    train_acc_lst2.append(train_acc)\n",
    "    \n",
    "    test_pred = model2(test_sen,test_mask)\n",
    "    test_loss = criterion(test_pred,test_label)\n",
    "    test_loss_lst2.append(test_loss.item())\n",
    "    _,test_pre_label = torch.max(test_pred, 1)\n",
    "    test_acc = accuracy_score(test_pre_label, test_label)\n",
    "    test_acc_lst2.append(test_acc)\n",
    "    \n",
    "    print('Epoch: %02d/30:' % (epoch+1),'train_loss = {:.6f}, test_loss = {:.6f}, train_acc = {:.6f}, test_acc = {:.6f}'.format(train_loss,test_loss,train_acc,test_acc))   "
   ]
  },
  {
   "cell_type": "code",
   "execution_count": 76,
   "id": "0bc11d1a",
   "metadata": {
    "ExecuteTime": {
     "end_time": "2022-06-10T03:36:16.442665Z",
     "start_time": "2022-06-10T03:36:16.422666Z"
    },
    "code_folding": [
     1
    ]
   },
   "outputs": [],
   "source": [
    "torch.save(model2.state_dict(),'BiGRU-2.pkl')\n",
    "Re = pd.DataFrame({'train_loss':train_loss_lst2,'test_loss':test_loss_lst2\n",
    "                  ,'train_acc':train_acc_lst2,'test_acc':test_acc_lst2})\n",
    "Re.to_csv('./BiGRU-2.csv')"
   ]
  },
  {
   "cell_type": "code",
   "execution_count": 109,
   "id": "9866b368",
   "metadata": {
    "ExecuteTime": {
     "end_time": "2022-06-10T04:06:51.736310Z",
     "start_time": "2022-06-10T04:06:51.481755Z"
    },
    "code_folding": [
     0
    ]
   },
   "outputs": [
    {
     "data": {
      "image/png": "[encoded data removed]",
      "text/plain": [
       "<Figure size 432x288 with 1 Axes>"
      ]
     },
     "metadata": {
      "needs_background": "light"
     },
     "output_type": "display_data"
    },
    {
     "data": {
      "image/png": "[encoded data removed]",
      "text/plain": [
       "<Figure size 432x288 with 1 Axes>"
      ]
     },
     "metadata": {
      "needs_background": "light"
     },
     "output_type": "display_data"
    }
   ],
   "source": [
    "# 绘制loss、f1曲线图\n",
    "plt.plot(np.arange(30),train_loss_lst2,label=\"train_loss\")\n",
    "plt.plot(np.arange(30),test_loss_lst2,label=\"test_loss\")\n",
    "plt.legend()\n",
    "plt.grid()\n",
    "plt.title('Loss')\n",
    "plt.show()\n",
    "\n",
    "plt.plot(np.arange(30),train_acc_lst2,label=\"train_acc\")\n",
    "plt.plot(np.arange(30),test_acc_lst2,label=\"test_acc\")\n",
    "plt.legend()\n",
    "plt.grid()\n",
    "plt.title('Accuracy')\n",
    "plt.show()"
   ]
  },
  {
   "cell_type": "markdown",
   "id": "d2e22532",
   "metadata": {
    "ExecuteTime": {
     "end_time": "2022-06-09T03:25:20.655724Z",
     "start_time": "2022-06-09T03:25:20.642727Z"
    }
   },
   "source": [
    "## PCNN"
   ]
  },
  {
   "cell_type": "code",
   "execution_count": 266,
   "id": "6f651696",
   "metadata": {
    "ExecuteTime": {
     "end_time": "2022-06-10T13:41:44.419261Z",
     "start_time": "2022-06-10T13:41:44.402194Z"
    }
   },
   "outputs": [],
   "source": [
    "class PCNN(nn.Module):\n",
    "    # 多通道textcnn\n",
    "    def __init__(self,embedding_dim,embedding):\n",
    "        super(PCNN, self).__init__()\n",
    "        self.embedding = embedding\n",
    "        self.location_emb = nn.Embedding(155,25)\n",
    "        self.convs = nn.Conv1d(in_channels=embedding_dim*3+50,out_channels=100,kernel_size=3,padding=1)\n",
    "        self.linear = nn.Linear(100*4, 19)\n",
    "\n",
    "    def forward(self, X,mask,location): \n",
    "        x = X\n",
    "        x.copy_(X)\n",
    "        x = x.numpy().tolist()\n",
    "        word_len = [i.index(word2idx['<pad>']) if i[-1]==word2idx['<pad>'] else len(i) for i in x]\n",
    "        x_input = X[:,0:max(word_len)]\n",
    "        location = location[:,0:max(word_len),:]\n",
    "        \n",
    "        x_input = self.embedding(x_input)\n",
    "        location0 = self.location_emb(location[:,:,0])\n",
    "        location1 = self.location_emb(location[:,:,1])\n",
    "        location = torch.concat((location0,location1),dim=-1)\n",
    "        \n",
    "        mask = mask[:,:,0:max(word_len)]\n",
    "        mask = mask.repeat(100,1,1,1).permute(1,2,0,3)     \n",
    "        # mask torch.Size([64, 5, 100, 85])\n",
    "        \n",
    "        e1 = [x_input[i][mask[:,3,:,:][i].transpose(0,1)].reshape(-1,embedding_dim) for i in range(x_input.size(0))]\n",
    "        e1 = [F.avg_pool1d(ei.permute(1,0),kernel_size=ei.size(0)).detach().numpy().tolist() for ei in e1]\n",
    "        e1 = torch.Tensor(np.array(e1))\n",
    "        e2 = [x_input[i][mask[:,4,:,:][i].transpose(0,1)].reshape(-1,embedding_dim) for i in range(x_input.size(0))]\n",
    "        e2 = [F.avg_pool1d(ei.permute(1,0),kernel_size=ei.size(0)).detach().numpy().tolist() for ei in e2]\n",
    "        e2 = torch.Tensor(np.array(e2))\n",
    "        \n",
    "        e1 = e1.repeat(1,1,max(word_len)).transpose(1,2)\n",
    "        e2 = e2.repeat(1,1,max(word_len)).transpose(1,2)\n",
    "        x_input = torch.concat((x_input,e1,e2),dim=-1)\n",
    "        x_input = F.dropout(x_input,p=0.5)\n",
    "\n",
    "        x = F.relu(self.convs(x_input.transpose(1,2)))\n",
    "        # torch.Size([B, 100, 85]\n",
    "        xmax = F.max_pool1d(x,kernel_size=x.size(2)).squeeze(-1)\n",
    "\n",
    "        p1 = [x[i][mask[:,0,0:100,:][i]].reshape(100,-1) for i in range(x.size(0))]\n",
    "        p1max = [F.max_pool1d(pi,kernel_size=pi.size(1)).detach().numpy().tolist() for pi in p1]\n",
    "        p1max = torch.Tensor(np.array(p1max))\n",
    "        \n",
    "        p2 = [x[i][mask[:,1,0:100,:][i]].reshape(100,-1) for i in range(x.size(0))]\n",
    "        p2max = [F.max_pool1d(pi,kernel_size=pi.size(1)).detach().numpy().tolist() for pi in p2]\n",
    "        p2max = torch.Tensor(np.array(p2max))\n",
    "        \n",
    "        p3 = [x[i][mask[:,2,0:100,:][i]].reshape(100,-1) for i in range(x.size(0))]\n",
    "        p3max = [F.max_pool1d(pi,kernel_size=pi.size(1)).detach().numpy().tolist() for pi in p3]\n",
    "        p3max = torch.Tensor(np.array(p3max))\n",
    "\n",
    "        x = torch.concat((p1max.squeeze(-1),p2max.squeeze(-1),p3max.squeeze(-1),xmax),dim=-1)\n",
    "        x = F.dropout(x,p=0.5)\n",
    "        # torch.Size([64, 300])\n",
    "        out = self.linear(x)\n",
    "        \n",
    "        return out\n",
    "    "
   ]
  },
  {
   "cell_type": "markdown",
   "id": "c67c56fa",
   "metadata": {},
   "source": [
    "#### 对位置信息进行编码"
   ]
  },
  {
   "cell_type": "code",
   "execution_count": null,
   "id": "0d1efada",
   "metadata": {
    "ExecuteTime": {
     "end_time": "2022-06-10T09:39:18.992335Z",
     "start_time": "2022-06-10T09:39:16.413Z"
    }
   },
   "outputs": [],
   "source": [
    "num_list = []\n",
    "for i in range(8000):\n",
    "    for j in range(85):\n",
    "        if train_position[i][j][0] not in num_list:\n",
    "            num_list.append(train_position[i][j][0])\n",
    "        if train_position[i][j][1] not in num_list:\n",
    "            num_list.append(train_position[i][j][1])\n",
    "\n",
    "# 构建词典\n",
    "idx2word_ ={ i:k for i,k in enumerate(num_list)}\n",
    "word2idx_ ={ k:i for i,k in enumerate(num_list)}"
   ]
  },
  {
   "cell_type": "code",
   "execution_count": null,
   "id": "5288be7c",
   "metadata": {
    "ExecuteTime": {
     "end_time": "2022-06-10T09:39:18.993337Z",
     "start_time": "2022-06-10T09:39:17.112Z"
    }
   },
   "outputs": [],
   "source": [
    "train_position_ = train_position.copy()\n",
    "for i in range(len(train_position_)):\n",
    "    for j in range(len(train_position_[0])):\n",
    "        train_position_[i][j][0]=word2idx_[train_position_[i][j][0]]\n",
    "        train_position_[i][j][1]=word2idx_[train_position_[i][j][1]]\n",
    "        \n",
    "test_position_ = test_position.copy()\n",
    "for i in range(len(test_position_)):\n",
    "    for j in range(len(test_position_[0])):\n",
    "        test_position_[i][j][0]=word2idx_[test_position_[i][j][0]]\n",
    "        test_position_[i][j][1]=word2idx_[test_position_[i][j][1]]\n",
    "        \n",
    "train_position_ = torch.tensor(train_position_)\n",
    "test_position_ = torch.tensor(test_position_)"
   ]
  },
  {
   "cell_type": "code",
   "execution_count": 212,
   "id": "80dfbf61",
   "metadata": {
    "ExecuteTime": {
     "end_time": "2022-06-10T11:12:42.673846Z",
     "start_time": "2022-06-10T11:12:42.664846Z"
    },
    "code_folding": [
     0
    ]
   },
   "outputs": [],
   "source": [
    "class RankingLossFunc(nn.Module):\n",
    "    def __init__(self):\n",
    "        super(RankingLossFunc, self).__init__()\n",
    "        self.mPos = 2.5\n",
    "        self.mNeg = 0.5\n",
    "        self.gamma = 0.05\n",
    "\n",
    "    def forward(self, pred, target):\n",
    "        value, index = torch.topk(pred,2,dim=1) # top2 score\n",
    "        noneOtherInd = target!=16 # not Other index\n",
    "        rows = torch.tensor(list(range(len(pred)))) #row index\n",
    "        part1 = pred[rows,target] # label score\n",
    "        part1 = torch.log(1+torch.exp(self.gamma*(self.mPos-part1)))\n",
    "        predT = index[:,0]==target\n",
    "        predF = index[:,0]!=target\n",
    "        part2 = torch.log(1+torch.exp(self.gamma*(self.mNeg+value))) \n",
    "        part2 = torch.dot(predT.float(),part2[:,1])+torch.dot(predF.float(),part2[:,0])\n",
    "        loss = torch.dot(noneOtherInd.float(),part1)+part2 # exclusive other loss\n",
    "        return loss/len(target)"
   ]
  },
  {
   "cell_type": "code",
   "execution_count": 218,
   "id": "2133e45f",
   "metadata": {
    "ExecuteTime": {
     "end_time": "2022-06-10T11:32:22.662103Z",
     "start_time": "2022-06-10T11:32:22.657057Z"
    }
   },
   "outputs": [],
   "source": [
    "embedding_dim=100\n",
    "model3 = PCNN(embedding_dim,embedding1)\n",
    "criterion = nn.CrossEntropyLoss()\n",
    "# criterion = RankingLossFunc()\n",
    "optimizer3 = torch.optim.Adam(model3.parameters(), lr=0.001, weight_decay=1e-5)"
   ]
  },
  {
   "cell_type": "code",
   "execution_count": 223,
   "id": "abe642f2",
   "metadata": {
    "ExecuteTime": {
     "end_time": "2022-06-10T11:56:52.268212Z",
     "start_time": "2022-06-10T11:56:52.244212Z"
    },
    "scrolled": true
   },
   "outputs": [
    {
     "name": "stdout",
     "output_type": "stream",
     "text": [
      "Epoch: 01/30: train_loss = 1.334816, test_loss = 1.474843, train_acc = 0.286750, test_acc = 0.319929\n",
      "Epoch: 02/30: train_loss = 1.318322, test_loss = 1.472370, train_acc = 0.349000, test_acc = 0.390632\n",
      "Epoch: 03/30: train_loss = 1.278869, test_loss = 1.439586, train_acc = 0.404250, test_acc = 0.459567\n",
      "Epoch: 04/30: train_loss = 1.224393, test_loss = 1.391319, train_acc = 0.462875, test_acc = 0.524967\n",
      "Epoch: 05/30: train_loss = 1.154346, test_loss = 1.332301, train_acc = 0.541125, test_acc = 0.608926\n",
      "Epoch: 06/30: train_loss = 1.097938, test_loss = 1.287055, train_acc = 0.578625, test_acc = 0.648696\n",
      "Epoch: 07/30: train_loss = 1.052712, test_loss = 1.248393, train_acc = 0.606125, test_acc = 0.687141\n",
      "Epoch: 08/30: train_loss = 1.005921, test_loss = 1.221925, train_acc = 0.631125, test_acc = 0.715864\n",
      "Epoch: 09/30: train_loss = 0.966920, test_loss = 1.203507, train_acc = 0.648125, test_acc = 0.722050\n",
      "Epoch: 10/30: train_loss = 0.928313, test_loss = 1.163204, train_acc = 0.660000, test_acc = 0.736633\n",
      "Epoch: 11/30: train_loss = 0.896679, test_loss = 1.144691, train_acc = 0.668500, test_acc = 0.739726\n",
      "Epoch: 12/30: train_loss = 0.868913, test_loss = 1.155733, train_acc = 0.672625, test_acc = 0.746354\n",
      "Epoch: 13/30: train_loss = 0.838164, test_loss = 1.120828, train_acc = 0.687625, test_acc = 0.766240\n",
      "Epoch: 14/30: train_loss = 0.809243, test_loss = 1.118413, train_acc = 0.696250, test_acc = 0.754750\n",
      "Epoch: 15/30: train_loss = 0.777478, test_loss = 1.111085, train_acc = 0.705625, test_acc = 0.761821\n",
      "Epoch: 16/30: train_loss = 0.749741, test_loss = 1.121504, train_acc = 0.711125, test_acc = 0.762704\n",
      "Epoch: 17/30: train_loss = 0.733449, test_loss = 1.116613, train_acc = 0.712750, test_acc = 0.760937\n",
      "Epoch: 18/30: train_loss = 0.706977, test_loss = 1.127018, train_acc = 0.721750, test_acc = 0.764472\n",
      "Epoch: 19/30: train_loss = 0.681984, test_loss = 1.121060, train_acc = 0.729500, test_acc = 0.770658\n",
      "Epoch: 20/30: train_loss = 0.658610, test_loss = 1.113243, train_acc = 0.733500, test_acc = 0.769333\n",
      "Epoch: 21/30: train_loss = 0.643599, test_loss = 1.126438, train_acc = 0.736250, test_acc = 0.779496\n",
      "Epoch: 22/30: train_loss = 0.607952, test_loss = 1.141943, train_acc = 0.742000, test_acc = 0.771542\n",
      "Epoch: 23/30: train_loss = 0.591349, test_loss = 1.129122, train_acc = 0.747875, test_acc = 0.782148\n",
      "Epoch: 24/30: train_loss = 0.590349, test_loss = 1.154553, train_acc = 0.750250, test_acc = 0.777287\n",
      "Epoch: 25/30: train_loss = 0.580349, test_loss = 1.181632, train_acc = 0.757125, test_acc = 0.772426\n",
      "Epoch: 26/30: train_loss = 0.570349, test_loss = 1.162547, train_acc = 0.759875, test_acc = 0.781264\n",
      "Epoch: 27/30: train_loss = 0.560349, test_loss = 1.164975, train_acc = 0.762125, test_acc = 0.773752\n",
      "Epoch: 28/30: train_loss = 0.566349, test_loss = 1.170965, train_acc = 0.767125, test_acc = 0.781264\n",
      "Epoch: 29/30: train_loss = 0.550349, test_loss = 1.201448, train_acc = 0.766000, test_acc = 0.778171\n",
      "Epoch: 30/30: train_loss = 0.550349, test_loss = 1.205742, train_acc = 0.770750, test_acc = 0.781706\n"
     ]
    }
   ],
   "source": [
    "train_acc_lst3,test_acc_lst3=[],[]\n",
    "train_loss_lst3,test_loss_lst3=[],[]\n",
    "\n",
    "for epoch in range(30):\n",
    "    model3.train()\n",
    "    for i,(sen,mask,label,position) in enumerate(loader3):\n",
    "        for i in range(len(position)):\n",
    "            for j in range(len(position[0])):\n",
    "                position[i][j][0]=word2idx_[position[i][j][0].item()]\n",
    "                position[i][j][1]=word2idx_[position[i][j][1].item()]\n",
    "        pred = model3(sen,mask,position)\n",
    "        loss = criterion(pred,label)\n",
    "        optimizer3.zero_grad()\n",
    "        loss.backward()\n",
    "        optimizer3.step()\n",
    "    \n",
    "    model3.eval()\n",
    "    train_pred = model3(train_sen,train_mask,train_position_)\n",
    "    train_loss = criterion(train_pred,train_label)\n",
    "    train_loss_lst3.append(train_loss.item())\n",
    "    _,train_pre_label = torch.max(train_pred, 1)\n",
    "    train_acc = accuracy_score(train_pre_label, train_label)\n",
    "    train_acc_lst3.append(train_acc)\n",
    "    \n",
    "    test_pred = model3(test_sen,test_mask,test_position_)\n",
    "    test_loss = criterion(test_pred,test_label)\n",
    "    test_loss_lst3.append(test_loss.item())\n",
    "    _,test_pre_label = torch.max(test_pred, 1)\n",
    "    test_acc = accuracy_score(test_pre_label, test_label)\n",
    "    test_acc_lst3.append(test_acc)\n",
    "    \n",
    "    print('Epoch: %02d/30:' % (epoch+1),'train_loss = {:.6f}, test_loss = {:.6f}, train_acc = {:.6f}, test_acc = {:.6f}'.format(train_loss,test_loss,train_acc,test_acc))   "
   ]
  },
  {
   "cell_type": "code",
   "execution_count": 222,
   "id": "42b11b7e",
   "metadata": {
    "ExecuteTime": {
     "end_time": "2022-06-10T11:54:55.331521Z",
     "start_time": "2022-06-10T11:54:55.315523Z"
    }
   },
   "outputs": [],
   "source": [
    "torch.save(model3.state_dict(),'BiGRU_whole_3.pkl')\n",
    "Re = pd.DataFrame({'train_loss':train_loss_lst3,'test_loss':test_loss_lst3\n",
    "                  ,'train_acc':train_acc_lst3,'test_acc':test_acc_lst3})\n",
    "Re.to_csv('./BiGRU_whole_3.csv')"
   ]
  },
  {
   "cell_type": "code",
   "execution_count": 224,
   "id": "050770fe",
   "metadata": {
    "ExecuteTime": {
     "end_time": "2022-06-10T11:57:21.787240Z",
     "start_time": "2022-06-10T11:57:21.544241Z"
    }
   },
   "outputs": [
    {
     "data": {
      "image/png": "[encoded data removed]",
      "text/plain": [
       "<Figure size 432x288 with 1 Axes>"
      ]
     },
     "metadata": {
      "needs_background": "light"
     },
     "output_type": "display_data"
    },
    {
     "data": {
      "image/png": "[encoded data removed]",
      "text/plain": [
       "<Figure size 432x288 with 1 Axes>"
      ]
     },
     "metadata": {
      "needs_background": "light"
     },
     "output_type": "display_data"
    }
   ],
   "source": [
    "# 绘制loss、f1曲线图\n",
    "plt.plot(np.arange(30),train_loss_lst3,label=\"train_loss\")\n",
    "plt.plot(np.arange(30),test_loss_lst3,label=\"test_loss\")\n",
    "plt.legend()\n",
    "plt.grid()\n",
    "plt.title('Loss')\n",
    "plt.show()\n",
    "\n",
    "plt.plot(np.arange(30),train_acc_lst3,label=\"train_acc\")\n",
    "plt.plot(np.arange(30),test_acc_lst3,label=\"test_acc\")\n",
    "plt.legend()\n",
    "plt.grid()\n",
    "plt.title('Accuracy')\n",
    "plt.show()"
   ]
  },
  {
   "cell_type": "markdown",
   "id": "f8df786f",
   "metadata": {},
   "source": [
    "## 模型评价"
   ]
  },
  {
   "cell_type": "code",
   "execution_count": null,
   "id": "c7486ff9",
   "metadata": {},
   "outputs": [],
   "source": [
    "test_sen, test_mask, test_label, test_position = make_data(test_data['sentence'], test_data['first_idx'], \n",
    "                        test_data['second_idx'],test_data['len'], test_data['Label'])"
   ]
  },
  {
   "cell_type": "code",
   "execution_count": 319,
   "id": "31901f35",
   "metadata": {
    "ExecuteTime": {
     "end_time": "2022-06-10T14:01:39.241762Z",
     "start_time": "2022-06-10T14:01:39.230766Z"
    }
   },
   "outputs": [
    {
     "data": {
      "text/plain": [
       "<All keys matched successfully>"
      ]
     },
     "execution_count": 319,
     "metadata": {},
     "output_type": "execute_result"
    }
   ],
   "source": [
    "BiGRU_atten = BiGRU_atten(embedding1)\n",
    "BiGRU_atten.load_state_dict(torch.load(\"./BiGRU-1.pkl\"))\n",
    "BiGRU_pool = BiGRU_pool(embedding1)\n",
    "BiGRU_pool.load_state_dict(torch.load(\"./BiGRU-2.pkl\"))\n",
    "PCNN = PCNN(embedding_dim,embedding1)\n",
    "PCNN.load_state_dict(torch.load(\"./PCNN.pkl\"))"
   ]
  },
  {
   "cell_type": "code",
   "execution_count": 320,
   "id": "2c1d5da8",
   "metadata": {
    "ExecuteTime": {
     "end_time": "2022-06-10T14:01:57.101915Z",
     "start_time": "2022-06-10T14:01:49.471314Z"
    }
   },
   "outputs": [],
   "source": [
    "pred_lst1 =[]\n",
    "BiGRU_atten.eval()\n",
    "pred = BiGRU_atten(test_sen,test_mask)\n",
    "_,pre_label = torch.max(pred, 1)\n",
    "pred_lst1.append(pre_label.data)\n",
    "\n",
    "pred_lst2 =[]\n",
    "BiGRU_pool.eval()\n",
    "pred = BiGRU_pool(test_sen,test_mask)\n",
    "_,pre_label = torch.max(pred, 1)\n",
    "pred_lst2.append(pre_label.data)\n",
    "\n",
    "pred_lst3 =[]\n",
    "PCNN.eval()\n",
    "pred = PCNN(test_sen,test_mask,test_position_)\n",
    "_,pre_label = torch.max(pred, 1)\n",
    "pred_lst3.append(pre_label.data)\n"
   ]
  },
  {
   "cell_type": "code",
   "execution_count": 296,
   "id": "ab4e8982",
   "metadata": {
    "ExecuteTime": {
     "end_time": "2022-06-10T13:52:04.748489Z",
     "start_time": "2022-06-10T13:52:04.731489Z"
    },
    "scrolled": true
   },
   "outputs": [
    {
     "name": "stdout",
     "output_type": "stream",
     "text": [
      "              precision    recall  f1-score   support\n",
      "\n",
      "           0     0.8430    0.7612    0.8000       134\n",
      "           1     0.8547    0.7577    0.8033       194\n",
      "           2     0.6400    0.4938    0.5575       162\n",
      "           3     0.4769    0.4133    0.4429       150\n",
      "           4     0.7974    0.7974    0.7974       153\n",
      "           5     0.7241    0.5385    0.6176        39\n",
      "           6     0.8559    0.6735    0.7538       291\n",
      "           7     0.0000    0.0000    0.0000         1\n",
      "           8     0.7532    0.5498    0.6356       211\n",
      "           9     0.6486    0.5106    0.5714        47\n",
      "          10     0.2143    0.1364    0.1667        22\n",
      "          11     0.4133    0.4627    0.4366       134\n",
      "          12     0.4167    0.1562    0.2273        32\n",
      "          13     0.7472    0.6617    0.7018       201\n",
      "          14     0.8062    0.4952    0.6136       210\n",
      "          15     0.7576    0.4902    0.5952        51\n",
      "          16     0.0000    0.0000    0.0000         0\n",
      "          17     0.4622    0.5093    0.4846       108\n",
      "          18     0.4778    0.3496    0.4038       123\n",
      "\n",
      "    accuracy                         0.5745      2263\n",
      "   macro avg     0.5731    0.4609    0.5057      2263\n",
      "weighted avg     0.6995    0.5745    0.6266      2263\n",
      "\n"
     ]
    }
   ],
   "source": [
    "print(classification_report(test_label.numpy(),np.array(pred_lst1[0]),digits=4))"
   ]
  },
  {
   "cell_type": "code",
   "execution_count": 321,
   "id": "41dc2411",
   "metadata": {
    "ExecuteTime": {
     "end_time": "2022-06-10T14:02:03.860452Z",
     "start_time": "2022-06-10T14:02:03.849452Z"
    }
   },
   "outputs": [
    {
     "name": "stdout",
     "output_type": "stream",
     "text": [
      "              precision    recall  f1-score   support\n",
      "\n",
      "           0     0.8718    0.7612    0.8127       134\n",
      "           1     0.8382    0.8814    0.8593       194\n",
      "           2     0.6290    0.7222    0.6724       162\n",
      "           3     0.5536    0.6200    0.5849       150\n",
      "           4     0.7750    0.8105    0.7923       153\n",
      "           5     0.5366    0.5641    0.5500        39\n",
      "           6     0.8525    0.8935    0.8725       291\n",
      "           7     0.0000    0.0000    0.0000         1\n",
      "           8     0.8358    0.7962    0.8155       211\n",
      "           9     0.8649    0.6809    0.7619        47\n",
      "          10     0.4000    0.1818    0.2500        22\n",
      "          11     0.5847    0.5149    0.5476       134\n",
      "          12     0.8182    0.2812    0.4186        32\n",
      "          13     0.8163    0.7960    0.8060       201\n",
      "          14     0.7476    0.7333    0.7404       210\n",
      "          15     0.7576    0.4902    0.5952        51\n",
      "          16     0.0000    0.0000    0.0000         0\n",
      "          17     0.7938    0.7130    0.7512       108\n",
      "          18     0.5752    0.5285    0.5508       123\n",
      "\n",
      "    accuracy                         0.7300      2263\n",
      "   macro avg     0.6448    0.5773    0.5990      2263\n",
      "weighted avg     0.7505    0.7300    0.7361      2263\n",
      "\n"
     ]
    }
   ],
   "source": [
    "print(classification_report(test_label.numpy(),np.array(pred_lst2[0]),digits=4))"
   ]
  },
  {
   "cell_type": "code",
   "execution_count": 273,
   "id": "ebf6a333",
   "metadata": {
    "ExecuteTime": {
     "end_time": "2022-06-10T13:44:08.260843Z",
     "start_time": "2022-06-10T13:44:08.250844Z"
    },
    "scrolled": true
   },
   "outputs": [
    {
     "name": "stdout",
     "output_type": "stream",
     "text": [
      "              precision    recall  f1-score   support\n",
      "\n",
      "           0     0.8682    0.8358    0.8517       134\n",
      "           1     0.8743    0.8608    0.8675       194\n",
      "           2     0.7256    0.7346    0.7301       162\n",
      "           3     0.6012    0.6733    0.6352       150\n",
      "           4     0.8411    0.8301    0.8355       153\n",
      "           5     0.7222    0.6667    0.6933        39\n",
      "           6     0.8323    0.8866    0.8586       291\n",
      "           7     0.0000    0.0000    0.0000         1\n",
      "           8     0.7880    0.8104    0.7991       211\n",
      "           9     0.7917    0.8085    0.8000        47\n",
      "          10     0.3500    0.3182    0.3333        22\n",
      "          11     0.6697    0.5448    0.6008       134\n",
      "          12     0.8182    0.5625    0.6667        32\n",
      "          13     0.8140    0.8706    0.8413       201\n",
      "          14     0.8057    0.8095    0.8076       210\n",
      "          15     0.6071    0.6667    0.6355        51\n",
      "          17     0.8280    0.7130    0.7662       108\n",
      "          18     0.6179    0.6179    0.6179       123\n",
      "\n",
      "    accuracy                         0.7729      2263\n",
      "   macro avg     0.6975    0.6783    0.6856      2263\n",
      "weighted avg     0.7729    0.7729    0.7715      2263\n",
      "\n"
     ]
    }
   ],
   "source": [
    "print(classification_report(test_label.numpy(),np.array(pred_lst3[0]),digits=4))"
   ]
  },
  {
   "cell_type": "code",
   "execution_count": null,
   "id": "f8b56df5",
   "metadata": {},
   "outputs": [],
   "source": []
  }
 ],
 "metadata": {
  "kernelspec": {
   "display_name": "Python 3",
   "language": "python",
   "name": "python3"
  },
  "language_info": {
   "codemirror_mode": {
    "name": "ipython",
    "version": 3
   },
   "file_extension": ".py",
   "mimetype": "text/x-python",
   "name": "python",
   "nbconvert_exporter": "python",
   "pygments_lexer": "ipython3",
   "version": "3.8.8"
  }
 },
 "nbformat": 4,
 "nbformat_minor": 5
}
